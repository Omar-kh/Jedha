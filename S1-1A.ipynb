{
 "cells": [
  {
   "cell_type": "code",
   "execution_count": 0,
   "metadata": {
    "colab": {},
    "colab_type": "code",
    "id": "SjUGpZbkgq5P"
   },
   "outputs": [],
   "source": [
    "#Quiz\n",
    "answer = input(\"Quelle est ton année de naissance ?\")\n",
    "if answer == \"1990\":\n",
    "  print(\"Bingo!\")\n",
    "else:\n",
    "  print(\"Non ce n'est pas ça!\")"
   ]
  },
  {
   "cell_type": "code",
   "execution_count": 3,
   "metadata": {
    "colab": {
     "base_uri": "https://localhost:8080/",
     "height": 90
    },
    "colab_type": "code",
    "executionInfo": {
     "elapsed": 12333,
     "status": "ok",
     "timestamp": 1558949485658,
     "user": {
      "displayName": "Omar Kadiri",
      "photoUrl": "",
      "userId": "05736927657904559489"
     },
     "user_tz": -120
    },
    "id": "4jnoSD-Un6MA",
    "outputId": "9b898ffd-8a1e-4c98-bbf4-e49728b758ce"
   },
   "outputs": [
    {
     "name": "stdout",
     "output_type": "stream",
     "text": [
      "Tapez votre mot de passeqslkdjsqd\n",
      "Tapez votre mot de passekjqshkbc\n",
      "Tapez votre mot de passekjqshdkjhsd\n",
      "Tapez votre mot de passeJedha\n"
     ]
    }
   ],
   "source": [
    "#Mot de Passe\n",
    "mdp = ''\n",
    "while mdp != \"Jedha\":\n",
    "  mdp = input (\"Tapez votre mot de passe\") "
   ]
  },
  {
   "cell_type": "code",
   "execution_count": 14,
   "metadata": {
    "colab": {
     "base_uri": "https://localhost:8080/",
     "height": 90
    },
    "colab_type": "code",
    "executionInfo": {
     "elapsed": 11886,
     "status": "ok",
     "timestamp": 1558951088062,
     "user": {
      "displayName": "Omar Kadiri",
      "photoUrl": "",
      "userId": "05736927657904559489"
     },
     "user_tz": -120
    },
    "id": "4JaMWGqloaoJ",
    "outputId": "dcc098d2-b6ab-4257-a988-202292e6e382"
   },
   "outputs": [
    {
     "name": "stdout",
     "output_type": "stream",
     "text": [
      "Quel est ton prénomlkjlk\n",
      "Quel est ton prénomlkjlkjl\n",
      "Quel est ton prénomlklmlkjlkj\n",
      "Quelle est ton année de naissance1990\n"
     ]
    }
   ],
   "source": [
    "#\"Vrai\" quiz\n",
    "answer1 = input('Quel est ton prénom') \n",
    "answer3 = ''\n",
    "count = 0\n",
    "while answer1 != 'Omar':\n",
    "  count += 1\n",
    "  if count == 3:\n",
    "    break\n",
    "  else:\n",
    "    answer1 = input('Quel est ton prénom')\n",
    "  \n",
    "\n",
    "answer2 = input('Quelle est ton année de naissance')\n",
    "while answer2 != '1990':\n",
    "  answer2 = input('Quelle est ton année de naissance')\n",
    "\n"
   ]
  }
 ],
 "metadata": {
  "colab": {
   "name": "S1-1A.ipynb",
   "provenance": [],
   "version": "0.3.2"
  },
  "kernelspec": {
   "display_name": "Python 3",
   "language": "python",
   "name": "python3"
  },
  "language_info": {
   "codemirror_mode": {
    "name": "ipython",
    "version": 3
   },
   "file_extension": ".py",
   "mimetype": "text/x-python",
   "name": "python",
   "nbconvert_exporter": "python",
   "pygments_lexer": "ipython3",
   "version": "3.7.3"
  }
 },
 "nbformat": 4,
 "nbformat_minor": 1
}
