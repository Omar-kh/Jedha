{
 "cells": [
  {
   "cell_type": "code",
   "execution_count": 0,
   "metadata": {
    "colab": {},
    "colab_type": "code",
    "id": "W9HXbN_oYD3A"
   },
   "outputs": [],
   "source": [
    "a = [1,2,3,4]\n",
    "a.append([5,6,7]) #the argument is considered as a single element\n",
    "a.extend([5,6,7]) #the list is separated into single elements, then added\n",
    "a += [8,9] #same as extend\n",
    "a.pop(3) #removes the element in the index given as an argument and returns it\n",
    "del(a[2]) #removes the element given as an argument but doesn't return it\n",
    "a.remove(1) #removes the value given as the argument\n",
    "?a.insert() #to get help\n",
    "a[:5] #to get the elements up to the 5th index\n",
    "a[5:] #to get the elements from the 5th index\n",
    "a[2:6] #from 2nd to 6th indexed elements\n",
    "a[2:6:2] #same but changed the step\n",
    "list = [i+12 for i in range(10)] #list comprehension, will generate [12,13,14,15...]\n",
    "second_list = [x + y for x in range(10) for y in [1,3,8,7]] #also works with two variables"
   ]
  },
  {
   "cell_type": "code",
   "execution_count": 7,
   "metadata": {},
   "outputs": [],
   "source": [
    "a = [i for i in range(10)]"
   ]
  },
  {
   "cell_type": "code",
   "execution_count": 0,
   "metadata": {
    "colab": {
     "base_uri": "https://localhost:8080/",
     "height": 53
    },
    "colab_type": "code",
    "executionInfo": {
     "elapsed": 682,
     "status": "ok",
     "timestamp": 1559030481144,
     "user": {
      "displayName": "Omar Kadiri",
      "photoUrl": "",
      "userId": "05736927657904559489"
     },
     "user_tz": -120
    },
    "id": "RcBOrg1Kc7xT",
    "outputId": "750e6f61-d7c4-4bc5-991e-b6354c95e834"
   },
   "outputs": [
    {
     "name": "stdout",
     "output_type": "stream",
     "text": [
      "['Bonjour', 'je', 'Michel', \"m'appelle\"]\n",
      "['Bonjour', 'je', \"m'appelle\", 'Michel']\n"
     ]
    }
   ],
   "source": [
    "bonjour = [\"Bonjour\", \"je\", \"Michel\", \"m'appelle\"] #organize correctly this array of strings\n",
    "print(bonjour)\n",
    "michel = bonjour.pop(2)\n",
    "bonjour.append(michel)\n",
    "print(bonjour)"
   ]
  },
  {
   "cell_type": "code",
   "execution_count": 0,
   "metadata": {
    "colab": {
     "base_uri": "https://localhost:8080/",
     "height": 72
    },
    "colab_type": "code",
    "executionInfo": {
     "elapsed": 596,
     "status": "ok",
     "timestamp": 1559034058753,
     "user": {
      "displayName": "Omar Kadiri",
      "photoUrl": "",
      "userId": "05736927657904559489"
     },
     "user_tz": -120
    },
    "id": "_4Gj7JHOlFQ2",
    "outputId": "074b6458-b2b9-41bf-cd63-f1ffd9747a0b"
   },
   "outputs": [
    {
     "name": "stdout",
     "output_type": "stream",
     "text": [
      "156.0\n",
      "[10, 12, 21, 25, 30, 50, 100, 1000]\n",
      "495.0\n"
     ]
    }
   ],
   "source": [
    "distances = [50, 10, 100, 25, 1000, 21, 12,30]\n",
    "total = 0\n",
    "for distance in distances:\n",
    "  total += distance\n",
    "avg = total / len(distances)\n",
    "print(avg)\n",
    "distances.sort()\n",
    "print(distances)\n",
    "range = (max(distances) - min(distances))/2\n",
    "print(range)"
   ]
  },
  {
   "cell_type": "code",
   "execution_count": 0,
   "metadata": {
    "colab": {
     "base_uri": "https://localhost:8080/",
     "height": 35
    },
    "colab_type": "code",
    "executionInfo": {
     "elapsed": 788,
     "status": "ok",
     "timestamp": 1559035934239,
     "user": {
      "displayName": "Omar Kadiri",
      "photoUrl": "",
      "userId": "05736927657904559489"
     },
     "user_tz": -120
    },
    "id": "TigxE9eoujOS",
    "outputId": "f9233a7e-2831-4825-f4df-b2c72038ee55"
   },
   "outputs": [
    {
     "data": {
      "text/plain": [
       "25"
      ]
     },
     "execution_count": 22,
     "metadata": {
      "tags": []
     },
     "output_type": "execute_result"
    }
   ],
   "source": [
    "def find_median(arr):\n",
    "  arr_length = len(arr)\n",
    "  if arr_length % 2 == 0:\n",
    "    median = (arr[int(arr_length / 2)] + arr[int(arr_length / 2) - 1]) / 2\n",
    "  else:\n",
    "    median = arr[int(arr_length / 2)]\n",
    "  return median\n",
    "    \n",
    "find_median([10, 12, 21, 25, 30, 50, 100])\n",
    "  "
   ]
  },
  {
   "cell_type": "code",
   "execution_count": 0,
   "metadata": {
    "colab": {
     "base_uri": "https://localhost:8080/",
     "height": 90
    },
    "colab_type": "code",
    "executionInfo": {
     "elapsed": 735,
     "status": "ok",
     "timestamp": 1559037722534,
     "user": {
      "displayName": "Omar Kadiri",
      "photoUrl": "",
      "userId": "05736927657904559489"
     },
     "user_tz": -120
    },
    "id": "xtgb-jDCxAqm",
    "outputId": "b2473ce3-c292-495f-b290-0b425ef1c568"
   },
   "outputs": [
    {
     "name": "stdout",
     "output_type": "stream",
     "text": [
      "In this todo, 0 is ('userId', 1) and\n",
      "In this todo, 1 is ('id', 1) and\n",
      "In this todo, 2 is ('title', 'delectus aut autem') and\n",
      "In this todo, 3 is ('completed', False) and\n"
     ]
    }
   ],
   "source": [
    "# Dictionnaries (similar to JSON)\n",
    "{\"key\": \"value\"}\n",
    "# Let's have a bit more fun\n",
    "\n",
    "import requests\n",
    "request = requests.get(\"https://jsonplaceholder.typicode.com/todos/1\")\n",
    "my_todo = request.json()\n",
    "\n",
    "for key, value in enumerate(my_todo.items()):\n",
    "  print(\"In this todo, {} is {} and\".format(key, value))"
   ]
  },
  {
   "cell_type": "code",
   "execution_count": 0,
   "metadata": {
    "colab": {
     "base_uri": "https://localhost:8080/",
     "height": 35
    },
    "colab_type": "code",
    "executionInfo": {
     "elapsed": 712,
     "status": "ok",
     "timestamp": 1559044090950,
     "user": {
      "displayName": "Omar Kadiri",
      "photoUrl": "",
      "userId": "05736927657904559489"
     },
     "user_tz": -120
    },
    "id": "XH1yt_YUMYP9",
    "outputId": "bd0d9410-16eb-4d4b-d24b-95811ae4db5f"
   },
   "outputs": [
    {
     "name": "stdout",
     "output_type": "stream",
     "text": [
      "Nope, pas d'accord, parce que unsupported operand type(s) for ** or pow(): 'str' and 'float'\n"
     ]
    }
   ],
   "source": [
    "def racine_carree(nbr):\n",
    "  try:\n",
    "    nbr = nbr ** 0.5\n",
    "  except TypeError as e:\n",
    "    print(\"Nope, pas d'accord, parce que {}\".format(e))\n",
    "  else:\n",
    "    return nbr\n",
    "racine_carree(\"9\")"
   ]
  },
  {
   "cell_type": "code",
   "execution_count": 0,
   "metadata": {
    "colab": {
     "base_uri": "https://localhost:8080/",
     "height": 53
    },
    "colab_type": "code",
    "executionInfo": {
     "elapsed": 653,
     "status": "ok",
     "timestamp": 1559045614628,
     "user": {
      "displayName": "Omar Kadiri",
      "photoUrl": "",
      "userId": "05736927657904559489"
     },
     "user_tz": -120
    },
    "id": "n8iP6PahRScX",
    "outputId": "5d27235d-0211-4e66-82cb-9eb96a057c9a"
   },
   "outputs": [
    {
     "name": "stdout",
     "output_type": "stream",
     "text": [
      "An error has occurred: The amount of money is not an integer\n",
      "An error has occurred: The number of people must at least be 1\n"
     ]
    }
   ],
   "source": [
    "def validate_amount(amount):\n",
    "  if type(amount) != int:\n",
    "    raise Exception(\"The amount of money is not an integer\")\n",
    "def validate_people(people):\n",
    "  if type(people) != int:\n",
    "    raise Exception(\"The number of people specified is not an integer\")\n",
    "  elif people == 0:\n",
    "    raise Exception(\"The number of people must at least be 1\")\n",
    "def partage_addition(total_amount = 0, nb_people = 1):\n",
    "  \n",
    "  try:\n",
    "    validate_amount(total_amount)\n",
    "    validate_people(nb_people)\n",
    "    indiv_share = total_amount / nb_people\n",
    "  except Exception as e:\n",
    "    print(\"An error has occurred: {}\".format(e))\n",
    "  else:\n",
    "    return indiv_share\n",
    "\n",
    "partage_addition(120, 4)\n",
    "partage_addition(\"120\", \"4\")\n",
    "partage_addition(120, 0)\n",
    "  "
   ]
  },
  {
   "cell_type": "code",
   "execution_count": 76,
   "metadata": {
    "colab": {
     "base_uri": "https://localhost:8080/",
     "height": 90
    },
    "colab_type": "code",
    "executionInfo": {
     "elapsed": 12073,
     "status": "ok",
     "timestamp": 1559057315465,
     "user": {
      "displayName": "Omar Kadiri",
      "photoUrl": "",
      "userId": "05736927657904559489"
     },
     "user_tz": -120
    },
    "id": "7RcJcQxKX9ZH",
    "outputId": "23361a82-5dac-4551-b3e6-5b665845b7ad"
   },
   "outputs": [
    {
     "name": "stdout",
     "output_type": "stream",
     "text": [
      "Initial amount?10000\n",
      "Number of years?10\n",
      "Rate?0.1\n",
      "25937\n"
     ]
    }
   ],
   "source": [
    "class Livret:\n",
    "  def __init__(self, init_amount, nb_years, rate):\n",
    "    self.init_amount = init_amount\n",
    "    self.nb_years = nb_years\n",
    "    self.rate = rate\n",
    "    \n",
    "  def validate(self):\n",
    "    if type(self.init_amount) != int or self.init_amount < 0:\n",
    "      raise Exception(\"The initial amount must be an integer and must be positive\")\n",
    "    if type(self.nb_years) != int or self.nb_years < 0:\n",
    "      raise Exception(\"The number of years must be an integer and must be positive\")\n",
    "    if type(self.rate) != float or self.rate >= 1 or self.rate < 0:\n",
    "      raise Exception(\"The rate must be a positive float number (e.g. 0.5)\")\n",
    "  \n",
    "  def calc_total(self):\n",
    "    try:\n",
    "      self.validate()\n",
    "      final_amount = self.init_amount * ((1 + self.rate) ** self.nb_years)\n",
    "    except Exception as e:\n",
    "      print(\"An error has occurred: {}\".format(e))\n",
    "    else:\n",
    "      return final_amount\n",
    "\n",
    "init_amount = int(input(\"Initial amount?\"))\n",
    "nb_years = int(input(\"Number of years?\"))\n",
    "rate = float(input(\"Rate?\"))\n",
    "\n",
    "livret = Livret(init_amount, nb_years, rate)\n",
    "final = livret.calc_total()\n",
    "\n",
    "print(\"{:.0f}\".format(final))"
   ]
  },
  {
   "cell_type": "code",
   "execution_count": 65,
   "metadata": {
    "colab": {
     "base_uri": "https://localhost:8080/",
     "height": 35
    },
    "colab_type": "code",
    "executionInfo": {
     "elapsed": 527,
     "status": "ok",
     "timestamp": 1559056819237,
     "user": {
      "displayName": "Omar Kadiri",
      "photoUrl": "",
      "userId": "05736927657904559489"
     },
     "user_tz": -120
    },
    "id": "Y4yOeU5T_KNo",
    "outputId": "da332e63-31f2-44e6-a68f-3802554ccce5"
   },
   "outputs": [
    {
     "name": "stdout",
     "output_type": "stream",
     "text": [
      "Anne, Julien, Lucien, Marie, Pierre\n"
     ]
    }
   ],
   "source": [
    "chaine = \"Pierre, Julien, Anne, Marie, Lucien\"\n",
    "chaine = chaine.split(', ')\n",
    "chaine.sort()\n",
    "chaine = ', '.join(chaine)\n",
    "print(chaine)"
   ]
  }
 ],
 "metadata": {
  "colab": {
   "name": "S1-2AB.ipynb",
   "provenance": [],
   "version": "0.3.2"
  },
  "kernelspec": {
   "display_name": "Python 3",
   "language": "python",
   "name": "python3"
  },
  "language_info": {
   "codemirror_mode": {
    "name": "ipython",
    "version": 3
   },
   "file_extension": ".py",
   "mimetype": "text/x-python",
   "name": "python",
   "nbconvert_exporter": "python",
   "pygments_lexer": "ipython3",
   "version": "3.7.3"
  }
 },
 "nbformat": 4,
 "nbformat_minor": 1
}
