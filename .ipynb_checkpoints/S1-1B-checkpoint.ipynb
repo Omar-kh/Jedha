{
 "cells": [
  {
   "cell_type": "code",
   "execution_count": 10,
   "metadata": {
    "colab": {
     "base_uri": "https://localhost:8080/",
     "height": 253
    },
    "colab_type": "code",
    "executionInfo": {
     "elapsed": 27833,
     "status": "ok",
     "timestamp": 1558956149980,
     "user": {
      "displayName": "Omar Kadiri",
      "photoUrl": "",
      "userId": "05736927657904559489"
     },
     "user_tz": -120
    },
    "id": "4aVt0cnv9T4K",
    "outputId": "852a70c0-33d9-488d-bde0-e13c027d599d"
   },
   "outputs": [
    {
     "name": "stdout",
     "output_type": "stream",
     "text": [
      "Bonjour et bienvenue dans ce quiz. Vous devez répondre juste à 3 questions. Pour chaque question, vous aurez trois chances. Bonne chance!\n",
      "Quel est ton prénomantoine\n",
      "Raté, il te reste 2 chances\n",
      "Quel est ton prénomomar\n",
      "Raté, il te reste 1 chances\n",
      "Quel est ton prénomOmar\n",
      "Bravo, passons à la prochaine question, à présent\n",
      "Quelle est ton année de naissance___\n",
      "Quelle est ton année de naissance\n",
      "Raté, il te reste 2 chances\n",
      "Raté, il te reste 1 chances\n",
      "Quelle est ton année de naissanceii\n",
      "Dommage, tu as perdu\n"
     ]
    }
   ],
   "source": [
    "#Quiz version 3 chances par question\n",
    "count1, count2, count3 = 0,0,0\n",
    "print(\"Bonjour et bienvenue dans ce quiz. Vous devez répondre juste à 3 questions. Pour chaque question, vous aurez trois chances. Bonne chance!\")\n",
    "answer1 = input('Quel est ton prénom') \n",
    "while answer1 != 'Omar':\n",
    "  count1 += 1\n",
    "  if count1 == 3:\n",
    "    print(\"Dommage, tu as perdu\")\n",
    "    break\n",
    "  else:\n",
    "    print(\"Raté, il te reste {} chances\".format(3-count1))\n",
    "    answer1 = input('Quel est ton prénom')\n",
    "\n",
    "if count1 < 3:\n",
    "  print(\"Bravo, passons à la prochaine question, à présent\")\n",
    "  answer2 = input('Quelle est ton année de naissance') \n",
    "  while answer2 != '1990':\n",
    "    count2 += 1\n",
    "    if count2 == 3:\n",
    "      print(\"Dommage, tu as perdu\")\n",
    "      break\n",
    "    else:\n",
    "      print(\"Raté, il te reste {} chances\".format(3-count2))\n",
    "      answer2 = input('Quelle est ton année de naissance')\n",
    "      \n",
    "if count1 < 3 and count2 < 3:\n",
    "  print(\"Bravo, passons à la prochaine question, à présent\")\n",
    "\n",
    "  answer3 = input('Où es-tu à présent') \n",
    "  while answer3 != 'Paris':\n",
    "    count3 += 1\n",
    "    if count3 == 3:\n",
    "      print(\"Dommage, tu as perdu\")\n",
    "      break\n",
    "    else:\n",
    "      print(\"Raté, il te reste {} chances\".format(3-count3))\n",
    "      answer3 = input('Où es-tu à présent')\n",
    "if count1 < 3 and count2 < 3 and count3 < 3:\n",
    "  print(\"Excellent, tu as réussi à finir ce quiz très difficile\")\n",
    "  \n"
   ]
  },
  {
   "cell_type": "code",
   "execution_count": 14,
   "metadata": {
    "colab": {
     "base_uri": "https://localhost:8080/",
     "height": 1049
    },
    "colab_type": "code",
    "executionInfo": {
     "elapsed": 6668,
     "status": "error",
     "timestamp": 1558956838838,
     "user": {
      "displayName": "Omar Kadiri",
      "photoUrl": "",
      "userId": "05736927657904559489"
     },
     "user_tz": -120
    },
    "id": "Krwf0yx7CK-S",
    "outputId": "915db430-4bbf-40e4-8b6e-dfa12e451119"
   },
   "outputs": [
    {
     "name": "stdout",
     "output_type": "stream",
     "text": [
      "Bonjour et bienvenue dans ce quiz. Vous devez répondre juste à 3 questions. Vous avez le droit à 3 jokers. Bonne chance!\n"
     ]
    },
    {
     "ename": "KeyboardInterrupt",
     "evalue": "ignored",
     "output_type": "error",
     "traceback": [
      "\u001b[0;31m---------------------------------------------------------------------------\u001b[0m",
      "\u001b[0;31mKeyboardInterrupt\u001b[0m                         Traceback (most recent call last)",
      "\u001b[0;32m/usr/local/lib/python3.6/dist-packages/ipykernel/kernelbase.py\u001b[0m in \u001b[0;36m_input_request\u001b[0;34m(self, prompt, ident, parent, password)\u001b[0m\n\u001b[1;32m    729\u001b[0m             \u001b[0;32mtry\u001b[0m\u001b[0;34m:\u001b[0m\u001b[0;34m\u001b[0m\u001b[0;34m\u001b[0m\u001b[0m\n\u001b[0;32m--> 730\u001b[0;31m                 \u001b[0mident\u001b[0m\u001b[0;34m,\u001b[0m \u001b[0mreply\u001b[0m \u001b[0;34m=\u001b[0m \u001b[0mself\u001b[0m\u001b[0;34m.\u001b[0m\u001b[0msession\u001b[0m\u001b[0;34m.\u001b[0m\u001b[0mrecv\u001b[0m\u001b[0;34m(\u001b[0m\u001b[0mself\u001b[0m\u001b[0;34m.\u001b[0m\u001b[0mstdin_socket\u001b[0m\u001b[0;34m,\u001b[0m \u001b[0;36m0\u001b[0m\u001b[0;34m)\u001b[0m\u001b[0;34m\u001b[0m\u001b[0;34m\u001b[0m\u001b[0m\n\u001b[0m\u001b[1;32m    731\u001b[0m             \u001b[0;32mexcept\u001b[0m \u001b[0mException\u001b[0m\u001b[0;34m:\u001b[0m\u001b[0;34m\u001b[0m\u001b[0;34m\u001b[0m\u001b[0m\n",
      "\u001b[0;32m/usr/local/lib/python3.6/dist-packages/jupyter_client/session.py\u001b[0m in \u001b[0;36mrecv\u001b[0;34m(self, socket, mode, content, copy)\u001b[0m\n\u001b[1;32m    802\u001b[0m         \u001b[0;32mtry\u001b[0m\u001b[0;34m:\u001b[0m\u001b[0;34m\u001b[0m\u001b[0;34m\u001b[0m\u001b[0m\n\u001b[0;32m--> 803\u001b[0;31m             \u001b[0mmsg_list\u001b[0m \u001b[0;34m=\u001b[0m \u001b[0msocket\u001b[0m\u001b[0;34m.\u001b[0m\u001b[0mrecv_multipart\u001b[0m\u001b[0;34m(\u001b[0m\u001b[0mmode\u001b[0m\u001b[0;34m,\u001b[0m \u001b[0mcopy\u001b[0m\u001b[0;34m=\u001b[0m\u001b[0mcopy\u001b[0m\u001b[0;34m)\u001b[0m\u001b[0;34m\u001b[0m\u001b[0;34m\u001b[0m\u001b[0m\n\u001b[0m\u001b[1;32m    804\u001b[0m         \u001b[0;32mexcept\u001b[0m \u001b[0mzmq\u001b[0m\u001b[0;34m.\u001b[0m\u001b[0mZMQError\u001b[0m \u001b[0;32mas\u001b[0m \u001b[0me\u001b[0m\u001b[0;34m:\u001b[0m\u001b[0;34m\u001b[0m\u001b[0;34m\u001b[0m\u001b[0m\n",
      "\u001b[0;32m/usr/local/lib/python3.6/dist-packages/zmq/sugar/socket.py\u001b[0m in \u001b[0;36mrecv_multipart\u001b[0;34m(self, flags, copy, track)\u001b[0m\n\u001b[1;32m    465\u001b[0m         \"\"\"\n\u001b[0;32m--> 466\u001b[0;31m         \u001b[0mparts\u001b[0m \u001b[0;34m=\u001b[0m \u001b[0;34m[\u001b[0m\u001b[0mself\u001b[0m\u001b[0;34m.\u001b[0m\u001b[0mrecv\u001b[0m\u001b[0;34m(\u001b[0m\u001b[0mflags\u001b[0m\u001b[0;34m,\u001b[0m \u001b[0mcopy\u001b[0m\u001b[0;34m=\u001b[0m\u001b[0mcopy\u001b[0m\u001b[0;34m,\u001b[0m \u001b[0mtrack\u001b[0m\u001b[0;34m=\u001b[0m\u001b[0mtrack\u001b[0m\u001b[0;34m)\u001b[0m\u001b[0;34m]\u001b[0m\u001b[0;34m\u001b[0m\u001b[0;34m\u001b[0m\u001b[0m\n\u001b[0m\u001b[1;32m    467\u001b[0m         \u001b[0;31m# have first part already, only loop while more to receive\u001b[0m\u001b[0;34m\u001b[0m\u001b[0;34m\u001b[0m\u001b[0;34m\u001b[0m\u001b[0m\n",
      "\u001b[0;32mzmq/backend/cython/socket.pyx\u001b[0m in \u001b[0;36mzmq.backend.cython.socket.Socket.recv\u001b[0;34m()\u001b[0m\n",
      "\u001b[0;32mzmq/backend/cython/socket.pyx\u001b[0m in \u001b[0;36mzmq.backend.cython.socket.Socket.recv\u001b[0;34m()\u001b[0m\n",
      "\u001b[0;32mzmq/backend/cython/socket.pyx\u001b[0m in \u001b[0;36mzmq.backend.cython.socket._recv_copy\u001b[0;34m()\u001b[0m\n",
      "\u001b[0;32m/usr/local/lib/python3.6/dist-packages/zmq/backend/cython/checkrc.pxd\u001b[0m in \u001b[0;36mzmq.backend.cython.checkrc._check_rc\u001b[0;34m()\u001b[0m\n",
      "\u001b[0;31mKeyboardInterrupt\u001b[0m: ",
      "\nDuring handling of the above exception, another exception occurred:\n",
      "\u001b[0;31mKeyboardInterrupt\u001b[0m                         Traceback (most recent call last)",
      "\u001b[0;32m<ipython-input-14-f198b68d9da1>\u001b[0m in \u001b[0;36m<module>\u001b[0;34m()\u001b[0m\n\u001b[1;32m      1\u001b[0m \u001b[0mcount\u001b[0m \u001b[0;34m=\u001b[0m \u001b[0;36m0\u001b[0m\u001b[0;34m\u001b[0m\u001b[0;34m\u001b[0m\u001b[0m\n\u001b[1;32m      2\u001b[0m \u001b[0mprint\u001b[0m\u001b[0;34m(\u001b[0m\u001b[0;34m\"Bonjour et bienvenue dans ce quiz. Vous devez répondre juste à 3 questions. Vous avez le droit à 3 jokers. Bonne chance!\"\u001b[0m\u001b[0;34m)\u001b[0m\u001b[0;34m\u001b[0m\u001b[0;34m\u001b[0m\u001b[0m\n\u001b[0;32m----> 3\u001b[0;31m \u001b[0manswer1\u001b[0m \u001b[0;34m=\u001b[0m \u001b[0minput\u001b[0m\u001b[0;34m(\u001b[0m\u001b[0;34m'Quel est ton prénom'\u001b[0m\u001b[0;34m)\u001b[0m\u001b[0;34m\u001b[0m\u001b[0;34m\u001b[0m\u001b[0m\n\u001b[0m\u001b[1;32m      4\u001b[0m \u001b[0;34m\u001b[0m\u001b[0m\n\u001b[1;32m      5\u001b[0m \u001b[0;32mwhile\u001b[0m \u001b[0manswer1\u001b[0m \u001b[0;34m!=\u001b[0m \u001b[0;34m'Omar'\u001b[0m\u001b[0;34m:\u001b[0m\u001b[0;34m\u001b[0m\u001b[0;34m\u001b[0m\u001b[0m\n",
      "\u001b[0;32m/usr/local/lib/python3.6/dist-packages/ipykernel/kernelbase.py\u001b[0m in \u001b[0;36mraw_input\u001b[0;34m(self, prompt)\u001b[0m\n\u001b[1;32m    703\u001b[0m             \u001b[0mself\u001b[0m\u001b[0;34m.\u001b[0m\u001b[0m_parent_ident\u001b[0m\u001b[0;34m,\u001b[0m\u001b[0;34m\u001b[0m\u001b[0;34m\u001b[0m\u001b[0m\n\u001b[1;32m    704\u001b[0m             \u001b[0mself\u001b[0m\u001b[0;34m.\u001b[0m\u001b[0m_parent_header\u001b[0m\u001b[0;34m,\u001b[0m\u001b[0;34m\u001b[0m\u001b[0;34m\u001b[0m\u001b[0m\n\u001b[0;32m--> 705\u001b[0;31m             \u001b[0mpassword\u001b[0m\u001b[0;34m=\u001b[0m\u001b[0;32mFalse\u001b[0m\u001b[0;34m,\u001b[0m\u001b[0;34m\u001b[0m\u001b[0;34m\u001b[0m\u001b[0m\n\u001b[0m\u001b[1;32m    706\u001b[0m         )\n\u001b[1;32m    707\u001b[0m \u001b[0;34m\u001b[0m\u001b[0m\n",
      "\u001b[0;32m/usr/local/lib/python3.6/dist-packages/ipykernel/kernelbase.py\u001b[0m in \u001b[0;36m_input_request\u001b[0;34m(self, prompt, ident, parent, password)\u001b[0m\n\u001b[1;32m    733\u001b[0m             \u001b[0;32mexcept\u001b[0m \u001b[0mKeyboardInterrupt\u001b[0m\u001b[0;34m:\u001b[0m\u001b[0;34m\u001b[0m\u001b[0;34m\u001b[0m\u001b[0m\n\u001b[1;32m    734\u001b[0m                 \u001b[0;31m# re-raise KeyboardInterrupt, to truncate traceback\u001b[0m\u001b[0;34m\u001b[0m\u001b[0;34m\u001b[0m\u001b[0;34m\u001b[0m\u001b[0m\n\u001b[0;32m--> 735\u001b[0;31m                 \u001b[0;32mraise\u001b[0m \u001b[0mKeyboardInterrupt\u001b[0m\u001b[0;34m\u001b[0m\u001b[0;34m\u001b[0m\u001b[0m\n\u001b[0m\u001b[1;32m    736\u001b[0m             \u001b[0;32melse\u001b[0m\u001b[0;34m:\u001b[0m\u001b[0;34m\u001b[0m\u001b[0;34m\u001b[0m\u001b[0m\n\u001b[1;32m    737\u001b[0m                 \u001b[0;32mbreak\u001b[0m\u001b[0;34m\u001b[0m\u001b[0;34m\u001b[0m\u001b[0m\n",
      "\u001b[0;31mKeyboardInterrupt\u001b[0m: "
     ]
    }
   ],
   "source": [
    "#Quiz version 3 chances au total (not DRY)\n",
    "count = 0\n",
    "print(\"Bonjour et bienvenue dans ce quiz. Vous devez répondre juste à 3 questions. Vous avez le droit à 3 jokers. Bonne chance!\")\n",
    "answer1 = input('Quel est ton prénom') \n",
    "\n",
    "while answer1 != 'Omar':\n",
    "  count += 1\n",
    "  if count == 3:\n",
    "    print(\"Dommage, tu as perdu\")\n",
    "    break\n",
    "  else:\n",
    "    print(\"Raté, il te reste {} chances\".format(3-count))\n",
    "    answer1 = input('Quel est ton prénom')\n",
    "\n",
    "if count < 3:\n",
    "  print(\"Bravo, passons à la prochaine question, à présent\")\n",
    "\n",
    "  answer2 = input('Quelle est ton année de naissance') \n",
    "  while answer2 != '1990':\n",
    "    count += 1\n",
    "    if count == 3:\n",
    "      print(\"Dommage, tu as perdu\")\n",
    "      break\n",
    "    else:\n",
    "      print(\"Raté, il te reste {} chances\".format(3-count))\n",
    "      answer2 = input('Quelle est ton année de naissance')\n",
    "\n",
    "if count < 3:\n",
    "  print(\"Bravo, passons à la prochaine question, à présent\")\n",
    "\n",
    "  answer3 = input('Où es-tu à présent') \n",
    "  while answer3 != 'Paris':\n",
    "    count += 1\n",
    "    if count == 3:\n",
    "      print(\"Dommage, tu as perdu\")\n",
    "      break\n",
    "    else:\n",
    "      print(\"Raté, il te reste {} chances\".format(3-count))\n",
    "      answer3 = input('Où es-tu à présent')\n",
    "\n",
    "if count < 3:\n",
    "  print(\"Excellent, tu as réussi à finir ce quiz très difficile\")\n",
    "  \n",
    "print(\"Fin du Quiz\")"
   ]
  },
  {
   "cell_type": "code",
   "execution_count": 30,
   "metadata": {
    "colab": {
     "base_uri": "https://localhost:8080/",
     "height": 199
    },
    "colab_type": "code",
    "executionInfo": {
     "elapsed": 16629,
     "status": "ok",
     "timestamp": 1558959676358,
     "user": {
      "displayName": "Omar Kadiri",
      "photoUrl": "",
      "userId": "05736927657904559489"
     },
     "user_tz": -120
    },
    "id": "DZXgLfCfBi_J",
    "outputId": "2c37e609-bd73-448b-8e1e-5713484f3914"
   },
   "outputs": [
    {
     "name": "stdout",
     "output_type": "stream",
     "text": [
      "Ton prénom?Omar\n",
      "Bien, passons à la question suivante\n",
      "Ton age?qslkdhqs\n",
      "Raté, il te reste 2 chances\n",
      "Ton age?29\n",
      "Bien, passons à la question suivante\n",
      "Ta ville?qsdjhqksdj\n",
      "Raté, il te reste 1 chances\n",
      "Ta ville?Paris\n",
      "Bravo, tu as correctement fini le quiz\n"
     ]
    }
   ],
   "source": [
    "# Quiz Vf (DRYer version)\n",
    "\n",
    "\n",
    "questions = [\"Ton prénom?\", \"Ton age?\", \"Ta ville?\"]\n",
    "answers = [\"Omar\", \"29\", \"Paris\"]\n",
    "\n",
    "count = 0\n",
    "\n",
    "for index, question in enumerate(questions):\n",
    "  if count == 3:\n",
    "    break  \n",
    "  else:\n",
    "    answer = input(question)\n",
    "    while answer != answers[index]:\n",
    "      count += 1\n",
    "      if count == 3:\n",
    "        print(\"Dommage tu as perdu\")\n",
    "        break\n",
    "      else:\n",
    "        print(\"Raté, il te reste {} chances\".format(3-count))\n",
    "        answer = input(question)\n",
    "    if count < 3 and index < 2:\n",
    "      print(\"Bien, passons à la question suivante\")\n",
    "\n",
    "if count == 3:\n",
    "  print(\"Game over. Relance le quiz pour rejouer\")\n",
    "else:\n",
    "  print(\"Bravo, tu as correctement fini le quiz\")"
   ]
  }
 ],
 "metadata": {
  "colab": {
   "name": "S1-1B.ipynb",
   "provenance": [],
   "version": "0.3.2"
  },
  "kernelspec": {
   "display_name": "Python 3",
   "language": "python",
   "name": "python3"
  },
  "language_info": {
   "codemirror_mode": {
    "name": "ipython",
    "version": 3
   },
   "file_extension": ".py",
   "mimetype": "text/x-python",
   "name": "python",
   "nbconvert_exporter": "python",
   "pygments_lexer": "ipython3",
   "version": "3.7.3"
  }
 },
 "nbformat": 4,
 "nbformat_minor": 1
}
