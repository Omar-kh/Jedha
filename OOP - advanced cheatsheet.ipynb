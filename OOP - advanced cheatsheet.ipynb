{
 "cells": [
  {
   "cell_type": "markdown",
   "metadata": {},
   "source": [
    "One shot: ```pip install virtualenv```\n",
    "\n",
    "\n",
    "Pour créer un environnement vuirtuel : \n",
    "```python3 -m virtualenv venv```\n",
    "\n",
    "\n",
    "Activer l'environnement virtuel :\n",
    "```source venv/bin/activate```\n",
    "\n",
    "Pour installer un package: ```pip install blah```"
   ]
  },
  {
   "cell_type": "markdown",
   "metadata": {},
   "source": [
    "Click :\n",
    "\n",
    "https://click.palletsprojects.com/en/7.x/\n",
    "\n"
   ]
  },
  {
   "cell_type": "code",
   "execution_count": 17,
   "metadata": {},
   "outputs": [],
   "source": [
    "class Task:\n",
    "    \n",
    "    def __init__(self, name):\n",
    "        self._name = name\n",
    "        \n",
    "    @property\n",
    "    def name(self):\n",
    "        print('BBB')\n",
    "        return self._name\n",
    "    \n",
    "    @name.setter\n",
    "    def name(self, v):\n",
    "        raise ValueError('Not allowed to change value')\n",
    "    \n",
    "    @name.deleter\n",
    "    def name(self):\n",
    "        self._name = None\n",
    "    "
   ]
  },
  {
   "cell_type": "code",
   "execution_count": 16,
   "metadata": {},
   "outputs": [
    {
     "name": "stdout",
     "output_type": "stream",
     "text": [
      "BBB\n",
      "aaaa\n",
      "--------------------------------------------------\n",
      "BBB\n",
      "aaaa\n",
      "BBB\n"
     ]
    }
   ],
   "source": [
    "task = Task('aaaa')\n",
    "print(task.name)\n",
    "print( '-'*50)\n",
    "#task.name = 'Hello'\n",
    "print(task.name)\n",
    "\n",
    "del task.name\n",
    "\n",
    "task.name"
   ]
  },
  {
   "cell_type": "code",
   "execution_count": 29,
   "metadata": {},
   "outputs": [],
   "source": [
    "class Todo:\n",
    "    \n",
    "    def __init__(self):\n",
    "        self._tasks = []\n",
    "        \n",
    "    def add_task(self, task):\n",
    "        self._tasks.append(task)\n",
    "        \n",
    "    def __lt__(self, other):\n",
    "        self._tasks.extend(other._tasks)\n",
    "        \n",
    "    def __repr__(self):\n",
    "        return ( \"< TODO : {} >\".format(\n",
    "            ' - '.join(self._tasks)\n",
    "        ))\n",
    "    \n",
    "    def __len__(self):\n",
    "        return len(self._tasks)\n",
    "    \n",
    "    "
   ]
  },
  {
   "cell_type": "code",
   "execution_count": 31,
   "metadata": {},
   "outputs": [
    {
     "name": "stdout",
     "output_type": "stream",
     "text": [
      "< TODO : A - B >\n",
      "2\n",
      "< TODO : X - Y >\n",
      "2\n",
      "< TODO : A - B - X - Y >\n",
      "4\n"
     ]
    }
   ],
   "source": [
    "todo1 = Todo()\n",
    "\n",
    "todo1.add_task('A')\n",
    "todo1.add_task('B')\n",
    "print(todo1)\n",
    "print(len(todo1))\n",
    "\n",
    "todo2 = Todo()\n",
    "todo2.add_task('X')\n",
    "todo2.add_task('Y')\n",
    "print(todo2)\n",
    "print(len(todo2))\n",
    "\n",
    "todo1 < todo2\n",
    "\n",
    "print(todo1)\n",
    "print(len(todo1))"
   ]
  }
 ],
 "metadata": {
  "kernelspec": {
   "display_name": "Python 3",
   "language": "python",
   "name": "python3"
  },
  "language_info": {
   "codemirror_mode": {
    "name": "ipython",
    "version": 3
   },
   "file_extension": ".py",
   "mimetype": "text/x-python",
   "name": "python",
   "nbconvert_exporter": "python",
   "pygments_lexer": "ipython3",
   "version": "3.7.3"
  }
 },
 "nbformat": 4,
 "nbformat_minor": 2
}
