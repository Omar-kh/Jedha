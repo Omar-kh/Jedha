{
 "cells": [
  {
   "cell_type": "code",
   "execution_count": 1,
   "metadata": {},
   "outputs": [],
   "source": [
    "#Imputer exercise\n",
    "class Imputer:\n",
    "    def __init__(self, data_list):\n",
    "        self.init_list = data_list\n",
    "        self.list_avg = self.replace_with_avg(data_list)\n",
    "        self.list_median = self.replace_with_median(data_list)\n",
    "        \n",
    "    def replace_with_avg(data_list, none_pos = []):\n",
    "        tot = 0\n",
    "        new_pos = []\n",
    "        for index, elem in enumerate(data_list):\n",
    "            if elem != None:\n",
    "                tot += elem\n",
    "            elif len(none_pos) == 0:\n",
    "                new_pos.append(index)\n",
    "\n",
    "        avg = tot / len(data_list)\n",
    "\n",
    "        for index in none_pos:\n",
    "            data_list[index] = avg\n",
    "\n",
    "        return data_list\n",
    "    \n",
    "    def replace_with_median(datalist)"
   ]
  },
  {
   "cell_type": "code",
   "execution_count": 16,
   "metadata": {},
   "outputs": [
    {
     "name": "stdout",
     "output_type": "stream",
     "text": [
      "1.27 µs ± 124 ns per loop (mean ± std. dev. of 7 runs, 1000000 loops each)\n"
     ]
    }
   ],
   "source": [
    "#Better performance but more verbose\n",
    "%%timeit\n",
    "data_list = [None, 1, 2, 3, None, 4, 5, None]\n",
    "\n",
    "def replace_with_avg(data_list):\n",
    "    tot = 0\n",
    "    none_pos = []\n",
    "    for index, elem in enumerate(data_list):\n",
    "        if elem != None:\n",
    "            tot += elem\n",
    "        else:\n",
    "            none_pos.append(index)\n",
    "\n",
    "    avg = tot / len(data_list)\n",
    "\n",
    "    for index in none_pos:\n",
    "        data_list[index] = avg\n",
    "    \n",
    "    return data_list\n",
    "        \n",
    "replace_with_avg(data_list)"
   ]
  },
  {
   "cell_type": "code",
   "execution_count": 15,
   "metadata": {},
   "outputs": [
    {
     "name": "stdout",
     "output_type": "stream",
     "text": [
      "9.31 µs ± 378 ns per loop (mean ± std. dev. of 7 runs, 100000 loops each)\n"
     ]
    }
   ],
   "source": [
    "#Cleaner syntax but slower performance\n",
    "%%timeit\n",
    "def change_with_avg(data_list):\n",
    "    avg = np.mean([x if x!= None else 0 for x in data_list])\n",
    "    return [x if x!=None else avg for x in data_list]\n",
    "\n",
    "change_with_avg(data_list)"
   ]
  }
 ],
 "metadata": {
  "kernelspec": {
   "display_name": "Python 3",
   "language": "python",
   "name": "python3"
  },
  "language_info": {
   "codemirror_mode": {
    "name": "ipython",
    "version": 3
   },
   "file_extension": ".py",
   "mimetype": "text/x-python",
   "name": "python",
   "nbconvert_exporter": "python",
   "pygments_lexer": "ipython3",
   "version": "3.7.3"
  }
 },
 "nbformat": 4,
 "nbformat_minor": 2
}
