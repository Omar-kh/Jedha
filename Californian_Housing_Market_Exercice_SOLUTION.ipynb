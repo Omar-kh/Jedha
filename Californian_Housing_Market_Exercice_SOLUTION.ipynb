{
 "cells": [
  {
   "cell_type": "markdown",
   "metadata": {
    "colab_type": "text",
    "id": "Ir8u1QgWOXeZ"
   },
   "source": [
    "# Californian Housing Market\n",
    "\n",
    "\n"
   ]
  },
  {
   "cell_type": "markdown",
   "metadata": {
    "colab_type": "text",
    "id": "yRLimEVTOcQf"
   },
   "source": [
    "Dans Sklearn, il y a des datasets qui sont déjà pré-enregistré qu'on peut utiliser à nos fins pour appliquer des algorithmes de Machine Learning. Tentons de regarder le premier avec _Boston Housing Market_"
   ]
  },
  {
   "cell_type": "markdown",
   "metadata": {
    "colab_type": "text",
    "id": "txxsZXhlOyaO"
   },
   "source": [
    "1. Importez les librairies usuelles"
   ]
  },
  {
   "cell_type": "code",
   "execution_count": 0,
   "metadata": {
    "colab": {},
    "colab_type": "code",
    "id": "Ier711AbO0Mm"
   },
   "outputs": [],
   "source": [
    "import numpy as np\n",
    "import pandas as pd\n",
    "import matplotlib.pyplot as plt \n",
    "import seaborn as sns"
   ]
  },
  {
   "cell_type": "markdown",
   "metadata": {
    "colab_type": "text",
    "id": "TM4sZrYeOrSq"
   },
   "source": [
    "    2. Utilisez les lignes de codes suivantes afin de récupérer les données sur les prix de l’immobilier en Californie :\n",
    "    \n",
    "```\n",
    "from sklearn import datasets\n",
    "data = datasets.california_housing.fetch_california_housing()\n",
    "```"
   ]
  },
  {
   "cell_type": "code",
   "execution_count": 2,
   "metadata": {
    "colab": {
     "base_uri": "https://localhost:8080/",
     "height": 35
    },
    "colab_type": "code",
    "id": "7uzNthAuOXOK",
    "outputId": "41c8fca7-d2d4-413f-bc51-df126f3d5e16"
   },
   "outputs": [
    {
     "name": "stderr",
     "output_type": "stream",
     "text": [
      "Downloading Cal. housing from https://ndownloader.figshare.com/files/5976036 to /root/scikit_learn_data\n"
     ]
    }
   ],
   "source": [
    "from sklearn import datasets\n",
    "data = datasets.california_housing.fetch_california_housing() "
   ]
  },
  {
   "cell_type": "markdown",
   "metadata": {
    "colab_type": "text",
    "id": "u6c9JJFfO-fe"
   },
   "source": [
    "3. Utilisez UNE ligne de code pour obtenir les noms des différentes variables explicatives"
   ]
  },
  {
   "cell_type": "code",
   "execution_count": 3,
   "metadata": {
    "colab": {
     "base_uri": "https://localhost:8080/",
     "height": 156
    },
    "colab_type": "code",
    "id": "j-fpaqj6NSU-",
    "outputId": "cc376048-80aa-489b-dbe3-1b49cc52d80b"
   },
   "outputs": [
    {
     "data": {
      "text/plain": [
       "['MedInc',\n",
       " 'HouseAge',\n",
       " 'AveRooms',\n",
       " 'AveBedrms',\n",
       " 'Population',\n",
       " 'AveOccup',\n",
       " 'Latitude',\n",
       " 'Longitude']"
      ]
     },
     "execution_count": 3,
     "metadata": {
      "tags": []
     },
     "output_type": "execute_result"
    }
   ],
   "source": [
    "data[\"feature_names\"]"
   ]
  },
  {
   "cell_type": "markdown",
   "metadata": {
    "colab_type": "text",
    "id": "hk8aFIWxPWnD"
   },
   "source": [
    "4. On préfèrerait avoir ces données dans un DataFrame. Utilisez la librairies Pandas pour trouver un moyen de mettre ces données dans un DataFrame \n",
    "\n",
    "Vous pouvez aller plus particulièrement regarder le lien suivant : \n",
    "\n",
    "[DataFrame en Pandas](https://pandas.pydata.org/pandas-docs/stable/reference/api/pandas.DataFrame.html)"
   ]
  },
  {
   "cell_type": "code",
   "execution_count": 4,
   "metadata": {
    "colab": {
     "base_uri": "https://localhost:8080/",
     "height": 202
    },
    "colab_type": "code",
    "id": "YJYDTxH1PVF1",
    "outputId": "f7ee4b33-2ac5-4e7c-d538-77c51942c1a6"
   },
   "outputs": [
    {
     "data": {
      "text/html": [
       "<div>\n",
       "<style scoped>\n",
       "    .dataframe tbody tr th:only-of-type {\n",
       "        vertical-align: middle;\n",
       "    }\n",
       "\n",
       "    .dataframe tbody tr th {\n",
       "        vertical-align: top;\n",
       "    }\n",
       "\n",
       "    .dataframe thead th {\n",
       "        text-align: right;\n",
       "    }\n",
       "</style>\n",
       "<table border=\"1\" class=\"dataframe\">\n",
       "  <thead>\n",
       "    <tr style=\"text-align: right;\">\n",
       "      <th></th>\n",
       "      <th>MedInc</th>\n",
       "      <th>HouseAge</th>\n",
       "      <th>AveRooms</th>\n",
       "      <th>AveBedrms</th>\n",
       "      <th>Population</th>\n",
       "      <th>AveOccup</th>\n",
       "      <th>Latitude</th>\n",
       "      <th>Longitude</th>\n",
       "      <th>Price</th>\n",
       "    </tr>\n",
       "  </thead>\n",
       "  <tbody>\n",
       "    <tr>\n",
       "      <th>0</th>\n",
       "      <td>8.3252</td>\n",
       "      <td>41.0</td>\n",
       "      <td>6.984127</td>\n",
       "      <td>1.023810</td>\n",
       "      <td>322.0</td>\n",
       "      <td>2.555556</td>\n",
       "      <td>37.88</td>\n",
       "      <td>-122.23</td>\n",
       "      <td>4.526</td>\n",
       "    </tr>\n",
       "    <tr>\n",
       "      <th>1</th>\n",
       "      <td>8.3014</td>\n",
       "      <td>21.0</td>\n",
       "      <td>6.238137</td>\n",
       "      <td>0.971880</td>\n",
       "      <td>2401.0</td>\n",
       "      <td>2.109842</td>\n",
       "      <td>37.86</td>\n",
       "      <td>-122.22</td>\n",
       "      <td>3.585</td>\n",
       "    </tr>\n",
       "    <tr>\n",
       "      <th>2</th>\n",
       "      <td>7.2574</td>\n",
       "      <td>52.0</td>\n",
       "      <td>8.288136</td>\n",
       "      <td>1.073446</td>\n",
       "      <td>496.0</td>\n",
       "      <td>2.802260</td>\n",
       "      <td>37.85</td>\n",
       "      <td>-122.24</td>\n",
       "      <td>3.521</td>\n",
       "    </tr>\n",
       "    <tr>\n",
       "      <th>3</th>\n",
       "      <td>5.6431</td>\n",
       "      <td>52.0</td>\n",
       "      <td>5.817352</td>\n",
       "      <td>1.073059</td>\n",
       "      <td>558.0</td>\n",
       "      <td>2.547945</td>\n",
       "      <td>37.85</td>\n",
       "      <td>-122.25</td>\n",
       "      <td>3.413</td>\n",
       "    </tr>\n",
       "    <tr>\n",
       "      <th>4</th>\n",
       "      <td>3.8462</td>\n",
       "      <td>52.0</td>\n",
       "      <td>6.281853</td>\n",
       "      <td>1.081081</td>\n",
       "      <td>565.0</td>\n",
       "      <td>2.181467</td>\n",
       "      <td>37.85</td>\n",
       "      <td>-122.25</td>\n",
       "      <td>3.422</td>\n",
       "    </tr>\n",
       "  </tbody>\n",
       "</table>\n",
       "</div>"
      ],
      "text/plain": [
       "   MedInc  HouseAge  AveRooms  AveBedrms  ...  AveOccup  Latitude  Longitude  Price\n",
       "0  8.3252      41.0  6.984127   1.023810  ...  2.555556     37.88    -122.23  4.526\n",
       "1  8.3014      21.0  6.238137   0.971880  ...  2.109842     37.86    -122.22  3.585\n",
       "2  7.2574      52.0  8.288136   1.073446  ...  2.802260     37.85    -122.24  3.521\n",
       "3  5.6431      52.0  5.817352   1.073059  ...  2.547945     37.85    -122.25  3.413\n",
       "4  3.8462      52.0  6.281853   1.081081  ...  2.181467     37.85    -122.25  3.422\n",
       "\n",
       "[5 rows x 9 columns]"
      ]
     },
     "execution_count": 4,
     "metadata": {
      "tags": []
     },
     "output_type": "execute_result"
    }
   ],
   "source": [
    "dataset = pd.DataFrame(columns=data[\"feature_names\"], data=data.data)\n",
    "dataset = pd.concat([dataset,pd.DataFrame({\"Price\":data.target})], axis=1)\n",
    "dataset.head()"
   ]
  },
  {
   "cell_type": "code",
   "execution_count": 7,
   "metadata": {
    "colab": {
     "base_uri": "https://localhost:8080/",
     "height": 728
    },
    "colab_type": "code",
    "id": "l9D8Md9x2vYJ",
    "outputId": "5279ab38-1cbd-41d9-bc78-060373f52f33"
   },
   "outputs": [
    {
     "name": "stdout",
     "output_type": "stream",
     "text": [
      ".. _california_housing_dataset:\n",
      "\n",
      "California Housing dataset\n",
      "--------------------------\n",
      "\n",
      "**Data Set Characteristics:**\n",
      "\n",
      "    :Number of Instances: 20640\n",
      "\n",
      "    :Number of Attributes: 8 numeric, predictive attributes and the target\n",
      "\n",
      "    :Attribute Information:\n",
      "        - MedInc        median income in block\n",
      "        - HouseAge      median house age in block\n",
      "        - AveRooms      average number of rooms\n",
      "        - AveBedrms     average number of bedrooms\n",
      "        - Population    block population\n",
      "        - AveOccup      average house occupancy\n",
      "        - Latitude      house block latitude\n",
      "        - Longitude     house block longitude\n",
      "\n",
      "    :Missing Attribute Values: None\n",
      "\n",
      "This dataset was obtained from the StatLib repository.\n",
      "http://lib.stat.cmu.edu/datasets/\n",
      "\n",
      "The target variable is the median house value for California districts.\n",
      "\n",
      "This dataset was derived from the 1990 U.S. census, using one row per census\n",
      "block group. A block group is the smallest geographical unit for which the U.S.\n",
      "Census Bureau publishes sample data (a block group typically has a population\n",
      "of 600 to 3,000 people).\n",
      "\n",
      "It can be downloaded/loaded using the\n",
      ":func:`sklearn.datasets.fetch_california_housing` function.\n",
      "\n",
      ".. topic:: References\n",
      "\n",
      "    - Pace, R. Kelley and Ronald Barry, Sparse Spatial Autoregressions,\n",
      "      Statistics and Probability Letters, 33 (1997) 291-297\n",
      "\n"
     ]
    }
   ],
   "source": [
    "print(data.DESCR)"
   ]
  },
  {
   "cell_type": "markdown",
   "metadata": {
    "colab_type": "text",
    "id": "WOUcwmAAROYA"
   },
   "source": [
    "5. Visualisez l'impact de chacune des variables sur le prix avec Seaborn "
   ]
  },
  {
   "cell_type": "markdown",
   "metadata": {
    "colab_type": "text",
    "id": "v6zrqrFlRpoY"
   },
   "source": [
    "a. Faites un nuage de points pour exprimer _MedInc_ en fonction de _Price_"
   ]
  },
  {
   "cell_type": "code",
   "execution_count": 5,
   "metadata": {
    "colab": {
     "base_uri": "https://localhost:8080/",
     "height": 387
    },
    "colab_type": "code",
    "id": "iaY0SdCAQjD0",
    "outputId": "de15cb5e-bed8-4acf-9f0c-afd8252b9fa4"
   },
   "outputs": [
    {
     "data": {
      "text/plain": [
       "<seaborn.axisgrid.FacetGrid at 0x7faccd83eda0>"
      ]
     },
     "execution_count": 5,
     "metadata": {
      "tags": []
     },
     "output_type": "execute_result"
    },
    {
     "data": {
      "image/png": "[encoded data removed]",
      "text/plain": [
       "<Figure size 360x360 with 1 Axes>"
      ]
     },
     "metadata": {
      "tags": []
     },
     "output_type": "display_data"
    }
   ],
   "source": [
    "sns.relplot(x=dataset.columns[0], y=dataset.columns[-1], data= dataset, kind=\"scatter\")"
   ]
  },
  {
   "cell_type": "markdown",
   "metadata": {
    "colab_type": "text",
    "id": "oozrRP_XSAwe"
   },
   "source": [
    "b. Regardez maintenant l'influence de l'âge de la maison par rapport au prix"
   ]
  },
  {
   "cell_type": "code",
   "execution_count": 0,
   "metadata": {
    "colab": {
     "base_uri": "https://localhost:8080/",
     "height": 386
    },
    "colab_type": "code",
    "id": "fKoJlzZuRYd2",
    "outputId": "c1a78cbb-dc34-4b00-c919-5f13976d2210"
   },
   "outputs": [
    {
     "data": {
      "text/plain": [
       "<seaborn.axisgrid.FacetGrid at 0x7f94b2ea3be0>"
      ]
     },
     "execution_count": 197,
     "metadata": {
      "tags": []
     },
     "output_type": "execute_result"
    },
    {
     "data": {
      "image/png": "[encoded data removed]",
      "text/plain": [
       "<Figure size 360x360 with 1 Axes>"
      ]
     },
     "metadata": {
      "tags": []
     },
     "output_type": "display_data"
    }
   ],
   "source": [
    "sns.relplot(x=dataset.columns[1], y=dataset.columns[-1], data= dataset, kind=\"line\")"
   ]
  },
  {
   "cell_type": "markdown",
   "metadata": {
    "colab_type": "text",
    "id": "vO09m2XGei7M"
   },
   "source": [
    "c. Trouvez un moyen de regarder la tendance entre _AveRooms_ & _Price_"
   ]
  },
  {
   "cell_type": "code",
   "execution_count": 0,
   "metadata": {
    "colab": {
     "base_uri": "https://localhost:8080/",
     "height": 386
    },
    "colab_type": "code",
    "id": "_Oymvr61STJX",
    "outputId": "9a48832c-48c0-4f21-ea93-7c0d09224870"
   },
   "outputs": [
    {
     "data": {
      "text/plain": [
       "<seaborn.axisgrid.FacetGrid at 0x7f94b2e58a20>"
      ]
     },
     "execution_count": 198,
     "metadata": {
      "tags": []
     },
     "output_type": "execute_result"
    },
    {
     "data": {
      "image/png": "[encoded data removed]",
      "text/plain": [
       "<Figure size 360x360 with 1 Axes>"
      ]
     },
     "metadata": {
      "tags": []
     },
     "output_type": "display_data"
    }
   ],
   "source": [
    "sns.lmplot(x=dataset.columns[2], y=dataset.columns[-1], data= dataset)"
   ]
  },
  {
   "cell_type": "markdown",
   "metadata": {
    "colab_type": "text",
    "id": "tZDPnFjSfIRm"
   },
   "source": [
    "d. Faites de même avec _AveBedrms_ & _Price_"
   ]
  },
  {
   "cell_type": "code",
   "execution_count": 0,
   "metadata": {
    "colab": {
     "base_uri": "https://localhost:8080/",
     "height": 386
    },
    "colab_type": "code",
    "id": "nI6crxaxSYYy",
    "outputId": "b2c6e34f-4f6d-4bf0-8afa-1f56d7fdaeb5"
   },
   "outputs": [
    {
     "data": {
      "text/plain": [
       "<seaborn.axisgrid.FacetGrid at 0x7f94b3a33ef0>"
      ]
     },
     "execution_count": 199,
     "metadata": {
      "tags": []
     },
     "output_type": "execute_result"
    },
    {
     "data": {
      "image/png": "[encoded data removed]",
      "text/plain": [
       "<Figure size 360x360 with 1 Axes>"
      ]
     },
     "metadata": {
      "tags": []
     },
     "output_type": "display_data"
    }
   ],
   "source": [
    "sns.lmplot(x=dataset.columns[3], y=dataset.columns[-1], data= dataset)"
   ]
  },
  {
   "cell_type": "markdown",
   "metadata": {
    "colab_type": "text",
    "id": "mpkL2Z0PfZ4D"
   },
   "source": [
    "e. Faites de même avec la population. Simplement, filtrez le dataset pour qu'il ne contienne uniquement les valeurs pour lesquelles la population est inférieur à 15000"
   ]
  },
  {
   "cell_type": "code",
   "execution_count": 0,
   "metadata": {
    "colab": {
     "base_uri": "https://localhost:8080/",
     "height": 386
    },
    "colab_type": "code",
    "id": "sNhCVJcpT-uh",
    "outputId": "c20cf5e3-dfaa-4b53-a154-3489063a1ba1"
   },
   "outputs": [
    {
     "data": {
      "text/plain": [
       "<seaborn.axisgrid.FacetGrid at 0x7f94b2dcfac8>"
      ]
     },
     "execution_count": 200,
     "metadata": {
      "tags": []
     },
     "output_type": "execute_result"
    },
    {
     "data": {
      "image/png": "[encoded data removed]",
      "text/plain": [
       "<Figure size 360x360 with 1 Axes>"
      ]
     },
     "metadata": {
      "tags": []
     },
     "output_type": "display_data"
    }
   ],
   "source": [
    "sns.lmplot(x=dataset.columns[4], y=dataset.columns[-1], data= dataset.query(\"Population<15000\"))"
   ]
  },
  {
   "cell_type": "markdown",
   "metadata": {
    "colab_type": "text",
    "id": "tzPY-V8KfkSM"
   },
   "source": [
    "f. Faites de même avec _AveOccup_. Cette fois filtrez la colonne pour ne garder unqiuement les valeurs inférieures à 100"
   ]
  },
  {
   "cell_type": "code",
   "execution_count": 0,
   "metadata": {
    "colab": {
     "base_uri": "https://localhost:8080/",
     "height": 386
    },
    "colab_type": "code",
    "id": "s35szTI0fP_o",
    "outputId": "2423eda5-5bb7-4fe6-df91-03d5d10e1da1"
   },
   "outputs": [
    {
     "data": {
      "text/plain": [
       "<seaborn.axisgrid.FacetGrid at 0x7f94b3c60c18>"
      ]
     },
     "execution_count": 201,
     "metadata": {
      "tags": []
     },
     "output_type": "execute_result"
    },
    {
     "data": {
      "image/png": "[encoded data removed]",
      "text/plain": [
       "<Figure size 360x360 with 1 Axes>"
      ]
     },
     "metadata": {
      "tags": []
     },
     "output_type": "display_data"
    }
   ],
   "source": [
    "sns.lmplot(x=dataset.columns[5], y=dataset.columns[-1], data= dataset.query(\"AveOccup<100\"))"
   ]
  },
  {
   "cell_type": "markdown",
   "metadata": {
    "colab_type": "text",
    "id": "xY42m782gCdt"
   },
   "source": [
    "6. Coupez votre dataset en deux. Vous aurez ```X``` comprenant les variables explicatives et  ```y``` contenant la variable cible"
   ]
  },
  {
   "cell_type": "code",
   "execution_count": 0,
   "metadata": {
    "colab": {},
    "colab_type": "code",
    "id": "cS1AeUQ9frHq"
   },
   "outputs": [],
   "source": [
    "X = dataset.iloc[:, :-1]\n",
    "y = dataset.iloc[:, -1:]\n"
   ]
  },
  {
   "cell_type": "markdown",
   "metadata": {
    "colab_type": "text",
    "id": "Bkq-jhumgakY"
   },
   "source": [
    "7. Maintenant, séparez votre dataset en un *train_set* et un *test_set*. On utilisera scikitlearn pour cela "
   ]
  },
  {
   "cell_type": "code",
   "execution_count": 0,
   "metadata": {
    "colab": {},
    "colab_type": "code",
    "id": "_TM7BZvsgYza"
   },
   "outputs": [],
   "source": [
    "from sklearn.model_selection import train_test_split\n",
    "\n",
    "X_train, X_test, y_train, y_test = train_test_split(X, y, test_size = 0.2)\n"
   ]
  },
  {
   "cell_type": "markdown",
   "metadata": {
    "colab_type": "text",
    "id": "vK4ssZlGgyaO"
   },
   "source": [
    "8. A votre avis, a-t-on besoin d'une phase de normalisation ? Si oui, faites là via scikitlearn"
   ]
  },
  {
   "cell_type": "code",
   "execution_count": 0,
   "metadata": {
    "colab": {},
    "colab_type": "code",
    "id": "hWw4BppEgnQZ"
   },
   "outputs": [],
   "source": [
    "from sklearn.preprocessing import StandardScaler\n",
    "\n",
    "sc_x = StandardScaler()\n",
    "X_train = sc_x.fit_transform(X_train)\n",
    "X_test = sc_x.fit_transform(X_test)"
   ]
  },
  {
   "cell_type": "markdown",
   "metadata": {
    "colab_type": "text",
    "id": "4gDLDh5rhJST"
   },
   "source": [
    "9. Créez votre modèle de régression linéaire via scikit learn"
   ]
  },
  {
   "cell_type": "code",
   "execution_count": 11,
   "metadata": {
    "colab": {
     "base_uri": "https://localhost:8080/",
     "height": 35
    },
    "colab_type": "code",
    "id": "FW67uyt6hI1v",
    "outputId": "1290a38f-1df3-4f1a-8faf-550b617cc2f7"
   },
   "outputs": [
    {
     "data": {
      "text/plain": [
       "LinearRegression(copy_X=True, fit_intercept=True, n_jobs=None, normalize=False)"
      ]
     },
     "execution_count": 11,
     "metadata": {
      "tags": []
     },
     "output_type": "execute_result"
    }
   ],
   "source": [
    "from sklearn.linear_model import LinearRegression\n",
    "regressor = LinearRegression()\n",
    "regressor.fit(X_train, y_train)"
   ]
  },
  {
   "cell_type": "markdown",
   "metadata": {
    "colab_type": "text",
    "id": "3aF7aAXphcHm"
   },
   "source": [
    "10. Affichez votre score R2 via scikitlearn sur vos données de test. Commentez les résultats de votre score. "
   ]
  },
  {
   "cell_type": "code",
   "execution_count": 12,
   "metadata": {
    "colab": {
     "base_uri": "https://localhost:8080/",
     "height": 35
    },
    "colab_type": "code",
    "id": "jKz61itehbg0",
    "outputId": "df8c1ecc-5f04-41d7-bcd1-04c1a9040af8"
   },
   "outputs": [
    {
     "data": {
      "text/plain": [
       "0.6068370326632032"
      ]
     },
     "execution_count": 12,
     "metadata": {
      "tags": []
     },
     "output_type": "execute_result"
    }
   ],
   "source": [
    "regressor.score(X_test, y_test)"
   ]
  },
  {
   "cell_type": "markdown",
   "metadata": {
    "colab_type": "text",
    "id": "BGlJzl83hwbL"
   },
   "source": [
    "11. Affichez les coefficients de chacune des variables explicatives "
   ]
  },
  {
   "cell_type": "code",
   "execution_count": 0,
   "metadata": {
    "colab": {
     "base_uri": "https://localhost:8080/",
     "height": 52
    },
    "colab_type": "code",
    "id": "0K_IfMmvhhIa",
    "outputId": "1f345a6d-f30d-45ae-964c-300a05de2179"
   },
   "outputs": [
    {
     "data": {
      "text/plain": [
       "array([[ 0.82114346,  0.11747658, -0.26493939,  0.30759428, -0.00165817,\n",
       "        -0.04170754, -0.90944796, -0.87886524]])"
      ]
     },
     "execution_count": 207,
     "metadata": {
      "tags": []
     },
     "output_type": "execute_result"
    }
   ],
   "source": [
    "regressor.coef_"
   ]
  },
  {
   "cell_type": "markdown",
   "metadata": {
    "colab_type": "text",
    "id": "V4xUT7bIiBfL"
   },
   "source": [
    "12. Créez un DataFrame dans lequel vous aurez les colonnes qui se rapportent au bon coefficient"
   ]
  },
  {
   "cell_type": "code",
   "execution_count": 0,
   "metadata": {
    "colab": {
     "base_uri": "https://localhost:8080/",
     "height": 288
    },
    "colab_type": "code",
    "id": "jPEF28xZh3l1",
    "outputId": "e44d127f-e063-449a-975c-71206b1867c0"
   },
   "outputs": [
    {
     "data": {
      "text/html": [
       "<div>\n",
       "<style scoped>\n",
       "    .dataframe tbody tr th:only-of-type {\n",
       "        vertical-align: middle;\n",
       "    }\n",
       "\n",
       "    .dataframe tbody tr th {\n",
       "        vertical-align: top;\n",
       "    }\n",
       "\n",
       "    .dataframe thead th {\n",
       "        text-align: right;\n",
       "    }\n",
       "</style>\n",
       "<table border=\"1\" class=\"dataframe\">\n",
       "  <thead>\n",
       "    <tr style=\"text-align: right;\">\n",
       "      <th></th>\n",
       "      <th>coefficients</th>\n",
       "    </tr>\n",
       "  </thead>\n",
       "  <tbody>\n",
       "    <tr>\n",
       "      <th>MedInc</th>\n",
       "      <td>0.821143</td>\n",
       "    </tr>\n",
       "    <tr>\n",
       "      <th>HouseAge</th>\n",
       "      <td>0.117477</td>\n",
       "    </tr>\n",
       "    <tr>\n",
       "      <th>AveRooms</th>\n",
       "      <td>-0.264939</td>\n",
       "    </tr>\n",
       "    <tr>\n",
       "      <th>AveBedrms</th>\n",
       "      <td>0.307594</td>\n",
       "    </tr>\n",
       "    <tr>\n",
       "      <th>Population</th>\n",
       "      <td>-0.001658</td>\n",
       "    </tr>\n",
       "    <tr>\n",
       "      <th>AveOccup</th>\n",
       "      <td>-0.041708</td>\n",
       "    </tr>\n",
       "    <tr>\n",
       "      <th>Latitude</th>\n",
       "      <td>-0.909448</td>\n",
       "    </tr>\n",
       "    <tr>\n",
       "      <th>Longitude</th>\n",
       "      <td>-0.878865</td>\n",
       "    </tr>\n",
       "  </tbody>\n",
       "</table>\n",
       "</div>"
      ],
      "text/plain": [
       "            coefficients\n",
       "MedInc          0.821143\n",
       "HouseAge        0.117477\n",
       "AveRooms       -0.264939\n",
       "AveBedrms       0.307594\n",
       "Population     -0.001658\n",
       "AveOccup       -0.041708\n",
       "Latitude       -0.909448\n",
       "Longitude      -0.878865"
      ]
     },
     "execution_count": 208,
     "metadata": {
      "tags": []
     },
     "output_type": "execute_result"
    }
   ],
   "source": [
    "coefs = pd.DataFrame(index=dataset.columns[:-1], data = regressor.coef_.transpose(), columns=[\"coefficients\"])\n",
    "coefs"
   ]
  },
  {
   "cell_type": "markdown",
   "metadata": {
    "colab_type": "text",
    "id": "mqOoZVWhjIEg"
   },
   "source": [
    "13. ordonnez ce dataset par ordre décroissant. Que pouvez vous maintenant conclure ? "
   ]
  },
  {
   "cell_type": "code",
   "execution_count": 0,
   "metadata": {
    "colab": {
     "base_uri": "https://localhost:8080/",
     "height": 288
    },
    "colab_type": "code",
    "id": "HViGTS1dik_W",
    "outputId": "2894c52b-ba5f-4816-8662-5af8f3fee16b"
   },
   "outputs": [
    {
     "data": {
      "text/html": [
       "<div>\n",
       "<style scoped>\n",
       "    .dataframe tbody tr th:only-of-type {\n",
       "        vertical-align: middle;\n",
       "    }\n",
       "\n",
       "    .dataframe tbody tr th {\n",
       "        vertical-align: top;\n",
       "    }\n",
       "\n",
       "    .dataframe thead th {\n",
       "        text-align: right;\n",
       "    }\n",
       "</style>\n",
       "<table border=\"1\" class=\"dataframe\">\n",
       "  <thead>\n",
       "    <tr style=\"text-align: right;\">\n",
       "      <th></th>\n",
       "      <th>coefficients</th>\n",
       "    </tr>\n",
       "  </thead>\n",
       "  <tbody>\n",
       "    <tr>\n",
       "      <th>MedInc</th>\n",
       "      <td>0.821143</td>\n",
       "    </tr>\n",
       "    <tr>\n",
       "      <th>AveBedrms</th>\n",
       "      <td>0.307594</td>\n",
       "    </tr>\n",
       "    <tr>\n",
       "      <th>HouseAge</th>\n",
       "      <td>0.117477</td>\n",
       "    </tr>\n",
       "    <tr>\n",
       "      <th>Population</th>\n",
       "      <td>-0.001658</td>\n",
       "    </tr>\n",
       "    <tr>\n",
       "      <th>AveOccup</th>\n",
       "      <td>-0.041708</td>\n",
       "    </tr>\n",
       "    <tr>\n",
       "      <th>AveRooms</th>\n",
       "      <td>-0.264939</td>\n",
       "    </tr>\n",
       "    <tr>\n",
       "      <th>Longitude</th>\n",
       "      <td>-0.878865</td>\n",
       "    </tr>\n",
       "    <tr>\n",
       "      <th>Latitude</th>\n",
       "      <td>-0.909448</td>\n",
       "    </tr>\n",
       "  </tbody>\n",
       "</table>\n",
       "</div>"
      ],
      "text/plain": [
       "            coefficients\n",
       "MedInc          0.821143\n",
       "AveBedrms       0.307594\n",
       "HouseAge        0.117477\n",
       "Population     -0.001658\n",
       "AveOccup       -0.041708\n",
       "AveRooms       -0.264939\n",
       "Longitude      -0.878865\n",
       "Latitude       -0.909448"
      ]
     },
     "execution_count": 209,
     "metadata": {
      "tags": []
     },
     "output_type": "execute_result"
    }
   ],
   "source": [
    "coefs.sort_values(by=\"coefficients\", ascending=False)"
   ]
  },
  {
   "cell_type": "markdown",
   "metadata": {
    "colab_type": "text",
    "id": "U5TUOealjrqh"
   },
   "source": [
    "---> Les colonnes ayant le plus d'influence sont les MedInc, la Longitude & Latitude ainsi que le nombre de lit.  "
   ]
  },
  {
   "cell_type": "markdown",
   "metadata": {
    "colab_type": "text",
    "id": "UvJV4SPvj2uz"
   },
   "source": [
    "14. En général, on évite de regarder les coefficients pour déterminer l'importance des features. On va plutôt utiliser quelque chose que ```f_regression```\n",
    "\n",
    "Regardez la documentation de sckitlearn pour essayer de réussir à mettre en place cette metric"
   ]
  },
  {
   "cell_type": "code",
   "execution_count": 0,
   "metadata": {
    "colab": {
     "base_uri": "https://localhost:8080/",
     "height": 141
    },
    "colab_type": "code",
    "id": "5R72p7JxjZfo",
    "outputId": "85201e00-a015-4a50-eb47-c31df274336a"
   },
   "outputs": [
    {
     "name": "stderr",
     "output_type": "stream",
     "text": [
      "/usr/local/lib/python3.6/dist-packages/sklearn/utils/validation.py:761: DataConversionWarning: A column-vector y was passed when a 1d array was expected. Please change the shape of y to (n_samples, ), for example using ravel().\n",
      "  y = column_or_1d(y, warn=True)\n"
     ]
    },
    {
     "data": {
      "text/plain": [
       "(array([1.85565716e+04, 2.32841479e+02, 4.87757462e+02, 4.51085756e+01,\n",
       "        1.25474103e+01, 1.16353421e+01, 4.38005453e+02, 4.36989761e+01]),\n",
       " array([0.00000000e+000, 2.76186068e-052, 7.56924213e-107, 1.91258939e-011,\n",
       "        3.97630785e-004, 6.48344237e-004, 2.93985929e-096, 3.92332207e-011]))"
      ]
     },
     "execution_count": 210,
     "metadata": {
      "tags": []
     },
     "output_type": "execute_result"
    }
   ],
   "source": [
    "from sklearn.feature_selection import f_regression\n",
    "\n",
    "feature_importance = f_regression(X, y)\n",
    "feature_importance"
   ]
  },
  {
   "cell_type": "markdown",
   "metadata": {
    "colab_type": "text",
    "id": "VgqBshYVnTCE"
   },
   "source": [
    "15. Mettez ensuite vos résultats dans un dataframe pour qu'on puisse les interpréter "
   ]
  },
  {
   "cell_type": "code",
   "execution_count": 0,
   "metadata": {
    "colab": {
     "base_uri": "https://localhost:8080/",
     "height": 288
    },
    "colab_type": "code",
    "id": "1MHVAohwmka0",
    "outputId": "cbc76243-81ae-426f-c49c-e03b035d6002"
   },
   "outputs": [
    {
     "data": {
      "text/html": [
       "<div>\n",
       "<style scoped>\n",
       "    .dataframe tbody tr th:only-of-type {\n",
       "        vertical-align: middle;\n",
       "    }\n",
       "\n",
       "    .dataframe tbody tr th {\n",
       "        vertical-align: top;\n",
       "    }\n",
       "\n",
       "    .dataframe thead th {\n",
       "        text-align: right;\n",
       "    }\n",
       "</style>\n",
       "<table border=\"1\" class=\"dataframe\">\n",
       "  <thead>\n",
       "    <tr style=\"text-align: right;\">\n",
       "      <th></th>\n",
       "      <th>f-score</th>\n",
       "      <th>p-value</th>\n",
       "    </tr>\n",
       "  </thead>\n",
       "  <tbody>\n",
       "    <tr>\n",
       "      <th>MedInc</th>\n",
       "      <td>18556.571631</td>\n",
       "      <td>0.000000e+00</td>\n",
       "    </tr>\n",
       "    <tr>\n",
       "      <th>AveRooms</th>\n",
       "      <td>487.757462</td>\n",
       "      <td>7.569242e-107</td>\n",
       "    </tr>\n",
       "    <tr>\n",
       "      <th>Latitude</th>\n",
       "      <td>438.005453</td>\n",
       "      <td>2.939859e-96</td>\n",
       "    </tr>\n",
       "    <tr>\n",
       "      <th>HouseAge</th>\n",
       "      <td>232.841479</td>\n",
       "      <td>2.761861e-52</td>\n",
       "    </tr>\n",
       "    <tr>\n",
       "      <th>AveBedrms</th>\n",
       "      <td>45.108576</td>\n",
       "      <td>1.912589e-11</td>\n",
       "    </tr>\n",
       "    <tr>\n",
       "      <th>Longitude</th>\n",
       "      <td>43.698976</td>\n",
       "      <td>3.923322e-11</td>\n",
       "    </tr>\n",
       "    <tr>\n",
       "      <th>Population</th>\n",
       "      <td>12.547410</td>\n",
       "      <td>3.976308e-04</td>\n",
       "    </tr>\n",
       "    <tr>\n",
       "      <th>AveOccup</th>\n",
       "      <td>11.635342</td>\n",
       "      <td>6.483442e-04</td>\n",
       "    </tr>\n",
       "  </tbody>\n",
       "</table>\n",
       "</div>"
      ],
      "text/plain": [
       "                 f-score        p-value\n",
       "MedInc      18556.571631   0.000000e+00\n",
       "AveRooms      487.757462  7.569242e-107\n",
       "Latitude      438.005453   2.939859e-96\n",
       "HouseAge      232.841479   2.761861e-52\n",
       "AveBedrms      45.108576   1.912589e-11\n",
       "Longitude      43.698976   3.923322e-11\n",
       "Population     12.547410   3.976308e-04\n",
       "AveOccup       11.635342   6.483442e-04"
      ]
     },
     "execution_count": 211,
     "metadata": {
      "tags": []
     },
     "output_type": "execute_result"
    }
   ],
   "source": [
    "feature_ranking = pd.DataFrame(columns=dataset.columns[:-1], data=feature_importance, index=[\"f-score\", \"p-value\"]).transpose().sort_values([\"f-score\", \"p-value\"], ascending=False)\n",
    "feature_ranking"
   ]
  },
  {
   "cell_type": "code",
   "execution_count": 0,
   "metadata": {
    "colab": {
     "base_uri": "https://localhost:8080/",
     "height": 234
    },
    "colab_type": "code",
    "id": "nY68IS-kpfJK",
    "outputId": "40cbf75d-7887-4513-bfac-4b754c05a97f"
   },
   "outputs": [
    {
     "data": {
      "image/png": "[encoded data removed]",
      "text/plain": [
       "<Figure size 360x360 with 1 Axes>"
      ]
     },
     "metadata": {
      "tags": []
     },
     "output_type": "display_data"
    }
   ],
   "source": [
    "ax = sns.catplot(x=feature_ranking.columns[0], y=[index for index in feature_ranking.index], data=feature_ranking, kind=\"bar\", legend=False)\n",
    "ax.set(xlabel='F-score', ylabel='Features')\n",
    "plt.show()"
   ]
  },
  {
   "cell_type": "markdown",
   "metadata": {
    "colab_type": "text",
    "id": "EFVsEtWKpV2c"
   },
   "source": [
    "---> Ici, on voit que le classement des features est légèremetn différents. C'est sur ce f-score que l'on se fiera pour la suite des exercices. "
   ]
  },
  {
   "cell_type": "markdown",
   "metadata": {
    "colab_type": "text",
    "id": "CJnSgnMQtNTR"
   },
   "source": [
    "**Questions supplémentaires**\n",
    "\n",
    "  \n",
    " "
   ]
  },
  {
   "cell_type": "markdown",
   "metadata": {
    "colab_type": "text",
    "id": "Tkcn2zD6ByQl"
   },
   "source": [
    "16. Prenez un échantillon de votre dataset via ```.sample()``` On prendra 150 valeurs"
   ]
  },
  {
   "cell_type": "code",
   "execution_count": 0,
   "metadata": {
    "colab": {
     "base_uri": "https://localhost:8080/",
     "height": 198
    },
    "colab_type": "code",
    "id": "WzSB3akIB6OC",
    "outputId": "bbc2dce4-d53a-4456-c65b-3d58c39728db"
   },
   "outputs": [
    {
     "data": {
      "text/html": [
       "<div>\n",
       "<style scoped>\n",
       "    .dataframe tbody tr th:only-of-type {\n",
       "        vertical-align: middle;\n",
       "    }\n",
       "\n",
       "    .dataframe tbody tr th {\n",
       "        vertical-align: top;\n",
       "    }\n",
       "\n",
       "    .dataframe thead th {\n",
       "        text-align: right;\n",
       "    }\n",
       "</style>\n",
       "<table border=\"1\" class=\"dataframe\">\n",
       "  <thead>\n",
       "    <tr style=\"text-align: right;\">\n",
       "      <th></th>\n",
       "      <th>MedInc</th>\n",
       "      <th>HouseAge</th>\n",
       "      <th>AveRooms</th>\n",
       "      <th>AveBedrms</th>\n",
       "      <th>Population</th>\n",
       "      <th>AveOccup</th>\n",
       "      <th>Latitude</th>\n",
       "      <th>Longitude</th>\n",
       "      <th>Price</th>\n",
       "    </tr>\n",
       "  </thead>\n",
       "  <tbody>\n",
       "    <tr>\n",
       "      <th>863</th>\n",
       "      <td>5.8151</td>\n",
       "      <td>6.0</td>\n",
       "      <td>6.402616</td>\n",
       "      <td>1.042151</td>\n",
       "      <td>2071.0</td>\n",
       "      <td>3.010174</td>\n",
       "      <td>37.58</td>\n",
       "      <td>-122.00</td>\n",
       "      <td>2.956</td>\n",
       "    </tr>\n",
       "    <tr>\n",
       "      <th>7966</th>\n",
       "      <td>2.2381</td>\n",
       "      <td>35.0</td>\n",
       "      <td>4.180812</td>\n",
       "      <td>1.092251</td>\n",
       "      <td>774.0</td>\n",
       "      <td>2.856089</td>\n",
       "      <td>33.86</td>\n",
       "      <td>-118.19</td>\n",
       "      <td>1.375</td>\n",
       "    </tr>\n",
       "    <tr>\n",
       "      <th>8184</th>\n",
       "      <td>5.7389</td>\n",
       "      <td>35.0</td>\n",
       "      <td>6.010767</td>\n",
       "      <td>0.995962</td>\n",
       "      <td>2134.0</td>\n",
       "      <td>2.872140</td>\n",
       "      <td>33.78</td>\n",
       "      <td>-118.10</td>\n",
       "      <td>2.518</td>\n",
       "    </tr>\n",
       "    <tr>\n",
       "      <th>4693</th>\n",
       "      <td>4.2500</td>\n",
       "      <td>52.0</td>\n",
       "      <td>5.736979</td>\n",
       "      <td>1.138021</td>\n",
       "      <td>899.0</td>\n",
       "      <td>2.341146</td>\n",
       "      <td>34.07</td>\n",
       "      <td>-118.37</td>\n",
       "      <td>4.869</td>\n",
       "    </tr>\n",
       "    <tr>\n",
       "      <th>20547</th>\n",
       "      <td>2.1927</td>\n",
       "      <td>43.0</td>\n",
       "      <td>4.329949</td>\n",
       "      <td>1.011844</td>\n",
       "      <td>1820.0</td>\n",
       "      <td>3.079526</td>\n",
       "      <td>38.68</td>\n",
       "      <td>-121.77</td>\n",
       "      <td>1.079</td>\n",
       "    </tr>\n",
       "  </tbody>\n",
       "</table>\n",
       "</div>"
      ],
      "text/plain": [
       "       MedInc  HouseAge  AveRooms  AveBedrms  Population  AveOccup  Latitude  \\\n",
       "863    5.8151       6.0  6.402616   1.042151      2071.0  3.010174     37.58   \n",
       "7966   2.2381      35.0  4.180812   1.092251       774.0  2.856089     33.86   \n",
       "8184   5.7389      35.0  6.010767   0.995962      2134.0  2.872140     33.78   \n",
       "4693   4.2500      52.0  5.736979   1.138021       899.0  2.341146     34.07   \n",
       "20547  2.1927      43.0  4.329949   1.011844      1820.0  3.079526     38.68   \n",
       "\n",
       "       Longitude  Price  \n",
       "863      -122.00  2.956  \n",
       "7966     -118.19  1.375  \n",
       "8184     -118.10  2.518  \n",
       "4693     -118.37  4.869  \n",
       "20547    -121.77  1.079  "
      ]
     },
     "execution_count": 213,
     "metadata": {
      "tags": []
     },
     "output_type": "execute_result"
    }
   ],
   "source": [
    "dataset = dataset.sample(150)\n",
    "dataset.head()"
   ]
  },
  {
   "cell_type": "markdown",
   "metadata": {
    "colab_type": "text",
    "id": "iOOcG0C4dFEC"
   },
   "source": [
    "17. Faites un reset des index pour avoir une suite de nombre comprise en 0 et la taille du dataset"
   ]
  },
  {
   "cell_type": "code",
   "execution_count": 0,
   "metadata": {
    "colab": {
     "base_uri": "https://localhost:8080/",
     "height": 198
    },
    "colab_type": "code",
    "id": "RTRSN1QKdPk3",
    "outputId": "e1684a59-0322-457d-fb6b-5692a96279e2"
   },
   "outputs": [
    {
     "data": {
      "text/html": [
       "<div>\n",
       "<style scoped>\n",
       "    .dataframe tbody tr th:only-of-type {\n",
       "        vertical-align: middle;\n",
       "    }\n",
       "\n",
       "    .dataframe tbody tr th {\n",
       "        vertical-align: top;\n",
       "    }\n",
       "\n",
       "    .dataframe thead th {\n",
       "        text-align: right;\n",
       "    }\n",
       "</style>\n",
       "<table border=\"1\" class=\"dataframe\">\n",
       "  <thead>\n",
       "    <tr style=\"text-align: right;\">\n",
       "      <th></th>\n",
       "      <th>MedInc</th>\n",
       "      <th>HouseAge</th>\n",
       "      <th>AveRooms</th>\n",
       "      <th>AveBedrms</th>\n",
       "      <th>Population</th>\n",
       "      <th>AveOccup</th>\n",
       "      <th>Latitude</th>\n",
       "      <th>Longitude</th>\n",
       "      <th>Price</th>\n",
       "    </tr>\n",
       "  </thead>\n",
       "  <tbody>\n",
       "    <tr>\n",
       "      <th>0</th>\n",
       "      <td>5.8151</td>\n",
       "      <td>6.0</td>\n",
       "      <td>6.402616</td>\n",
       "      <td>1.042151</td>\n",
       "      <td>2071.0</td>\n",
       "      <td>3.010174</td>\n",
       "      <td>37.58</td>\n",
       "      <td>-122.00</td>\n",
       "      <td>2.956</td>\n",
       "    </tr>\n",
       "    <tr>\n",
       "      <th>1</th>\n",
       "      <td>2.2381</td>\n",
       "      <td>35.0</td>\n",
       "      <td>4.180812</td>\n",
       "      <td>1.092251</td>\n",
       "      <td>774.0</td>\n",
       "      <td>2.856089</td>\n",
       "      <td>33.86</td>\n",
       "      <td>-118.19</td>\n",
       "      <td>1.375</td>\n",
       "    </tr>\n",
       "    <tr>\n",
       "      <th>2</th>\n",
       "      <td>5.7389</td>\n",
       "      <td>35.0</td>\n",
       "      <td>6.010767</td>\n",
       "      <td>0.995962</td>\n",
       "      <td>2134.0</td>\n",
       "      <td>2.872140</td>\n",
       "      <td>33.78</td>\n",
       "      <td>-118.10</td>\n",
       "      <td>2.518</td>\n",
       "    </tr>\n",
       "    <tr>\n",
       "      <th>3</th>\n",
       "      <td>4.2500</td>\n",
       "      <td>52.0</td>\n",
       "      <td>5.736979</td>\n",
       "      <td>1.138021</td>\n",
       "      <td>899.0</td>\n",
       "      <td>2.341146</td>\n",
       "      <td>34.07</td>\n",
       "      <td>-118.37</td>\n",
       "      <td>4.869</td>\n",
       "    </tr>\n",
       "    <tr>\n",
       "      <th>4</th>\n",
       "      <td>2.1927</td>\n",
       "      <td>43.0</td>\n",
       "      <td>4.329949</td>\n",
       "      <td>1.011844</td>\n",
       "      <td>1820.0</td>\n",
       "      <td>3.079526</td>\n",
       "      <td>38.68</td>\n",
       "      <td>-121.77</td>\n",
       "      <td>1.079</td>\n",
       "    </tr>\n",
       "  </tbody>\n",
       "</table>\n",
       "</div>"
      ],
      "text/plain": [
       "   MedInc  HouseAge  AveRooms  AveBedrms  Population  AveOccup  Latitude  \\\n",
       "0  5.8151       6.0  6.402616   1.042151      2071.0  3.010174     37.58   \n",
       "1  2.2381      35.0  4.180812   1.092251       774.0  2.856089     33.86   \n",
       "2  5.7389      35.0  6.010767   0.995962      2134.0  2.872140     33.78   \n",
       "3  4.2500      52.0  5.736979   1.138021       899.0  2.341146     34.07   \n",
       "4  2.1927      43.0  4.329949   1.011844      1820.0  3.079526     38.68   \n",
       "\n",
       "   Longitude  Price  \n",
       "0    -122.00  2.956  \n",
       "1    -118.19  1.375  \n",
       "2    -118.10  2.518  \n",
       "3    -118.37  4.869  \n",
       "4    -121.77  1.079  "
      ]
     },
     "execution_count": 214,
     "metadata": {
      "tags": []
     },
     "output_type": "execute_result"
    }
   ],
   "source": [
    "dataset = dataset.reset_index(drop = True)\n",
    "dataset.head()"
   ]
  },
  {
   "cell_type": "markdown",
   "metadata": {
    "colab_type": "text",
    "id": "_ZQEamsqCADy"
   },
   "source": [
    "  17. Utilisez l’aide suivante afin de traduire la longitude et la latitude des données pour trouver les villes correspondant à chaque observation : [geopy](https://pypi.org/project/geopy)"
   ]
  },
  {
   "cell_type": "code",
   "execution_count": 0,
   "metadata": {
    "colab": {
     "base_uri": "https://localhost:8080/",
     "height": 35
    },
    "colab_type": "code",
    "id": "AaHYyq0nqulD",
    "outputId": "fcf07686-fc81-4dfa-aeac-dafc2a8df8c1"
   },
   "outputs": [
    {
     "data": {
      "text/plain": [
       "'Berlin'"
      ]
     },
     "execution_count": 215,
     "metadata": {
      "tags": []
     },
     "output_type": "execute_result"
    }
   ],
   "source": [
    "from geopy.geocoders import Nominatim\n",
    "\n",
    "geolocator = Nominatim(user_agent=\"yet_another_app\")\n",
    "location = geolocator.reverse(\"52.509669, 13.376294\")\n",
    "loc_dict = dict(location.raw)\n",
    "loc_dict[\"address\"][\"city\"]"
   ]
  },
  {
   "cell_type": "code",
   "execution_count": 0,
   "metadata": {
    "colab": {
     "base_uri": "https://localhost:8080/",
     "height": 2628
    },
    "colab_type": "code",
    "id": "zK7bJbWnuvHu",
    "outputId": "ca93a054-6371-493c-df13-c3d5089b4b8c"
   },
   "outputs": [
    {
     "name": "stdout",
     "output_type": "stream",
     "text": [
      "{'house_number': '864', 'road': 'Vanda Way', 'suburb': 'Niles District', 'city': 'Fremont', 'county': 'Alameda County', 'state': 'California', 'postcode': '94536', 'country': 'USA', 'country_code': 'us'}\n",
      "{'house_number': '298', 'road': 'South Street', 'suburb': 'North Long Beach', 'city': 'Long Beach', 'county': 'Los Angeles County', 'state': 'California', 'postcode': '90805', 'country': 'USA', 'country_code': 'us'}\n",
      "{'house_number': '6890', 'road': 'East 10th Street', 'suburb': 'Los Altos', 'city': 'Long Beach', 'county': 'Los Angeles County', 'state': 'California', 'postcode': '90815', 'country': 'USA', 'country_code': 'us'}\n",
      "{'house_number': '6588', 'road': 'Colgate Avenue', 'neighbourhood': 'Carthay Circle', 'suburb': 'Hollywood', 'city': 'LA', 'county': 'Los Angeles County', 'state': 'California', 'postcode': '90048', 'country': 'USA', 'country_code': 'us'}\n",
      "{'house_number': '847', 'road': 'North Street', 'city': 'Woodland', 'county': 'Yolo County', 'state': 'California', 'postcode': '95695', 'country': 'USA', 'country_code': 'us'}\n",
      "{'house_number': '198', 'road': 'Roundabout Drive', 'city': 'La Puente', 'county': 'Los Angeles County', 'state': 'California', 'postcode': '91744', 'country': 'USA', 'country_code': 'us'}\n",
      "{'house_number': '1247', 'road': 'Filbert Street', 'neighbourhood': 'Russian Hill', 'city': 'SF', 'county': 'SF', 'state': 'California', 'postcode': '94109', 'country': 'USA', 'country_code': 'us'}\n",
      "{'house_number': '3836', 'road': 'Hughes Lane', 'city': 'Bakersfield', 'county': 'Kern County', 'state': 'California', 'postcode': '93304', 'country': 'USA', 'country_code': 'us'}\n",
      "{'house_number': '6847', 'road': 'Jamacha Road', 'suburb': 'Encanto', 'city': 'San Diego', 'county': 'San Diego County', 'state': 'California', 'postcode': '92114', 'country': 'USA', 'country_code': 'us'}\n",
      "{'house_number': '6174', 'road': 'Meadowbrook Lane', 'city': 'Riverside', 'county': 'Riverside County', 'state': 'California', 'postcode': '92504', 'country': 'USA', 'country_code': 'us'}\n",
      "{'house_number': '3602', 'road': 'Snowdrift Drive', 'suburb': 'Corona Spectrum', 'hamlet': 'Home Gardens', 'county': 'Riverside County', 'state': 'California', 'postcode': '92503', 'country': 'USA', 'country_code': 'us'}\n",
      "{'school': 'Bell Junior High School', 'road': 'Briarwood Road', 'suburb': 'Bay Terraces', 'city': 'San Diego', 'county': 'San Diego County', 'state': 'California', 'postcode': '92139', 'country': 'USA', 'country_code': 'us'}\n",
      "{'school': 'El Camino Fundamental High School', 'road': 'El Camino Avenue', 'hamlet': 'Carmichael', 'county': 'Sacramento County', 'state': 'California', 'postcode': '95864', 'country': 'USA', 'country_code': 'us'}\n",
      "{'house_number': '4468', 'road': 'Hillmonte Drive', 'city': 'Redding', 'county': 'Shasta County', 'state': 'California', 'postcode': '96002', 'country': 'USA', 'country_code': 'us'}\n",
      "{'house_number': '1748', 'road': 'South Union Avenue', 'neighbourhood': 'Alvarado Terrace Historic District', 'suburb': 'Saint James Park', 'city': 'LA', 'county': 'Los Angeles County', 'state': 'California', 'postcode': '90015', 'country': 'USA', 'country_code': 'us'}\n",
      "{'house_number': '2212', 'road': 'Sacramento Street', 'neighbourhood': 'Pacific Heights', 'city': 'SF', 'county': 'SF', 'state': 'California', 'postcode': '94164', 'country': 'USA', 'country_code': 'us'}\n",
      "{'house_number': '2742', 'road': 'Beene Road', 'city': 'Ventura', 'county': 'Ventura County', 'state': 'California', 'postcode': '93003', 'country': 'USA', 'country_code': 'us'}\n",
      "{'house_number': '485', 'road': 'Pine Hill Lane', 'town': 'Pleasanton', 'county': 'Alameda County', 'state': 'California', 'postcode': '94566', 'country': 'USA', 'country_code': 'us'}\n",
      "{'house_number': '1847', 'road': 'West 65th Place', 'neighbourhood': 'Van Ness', 'suburb': 'Florence', 'city': 'LA', 'county': 'Los Angeles County', 'state': 'California', 'postcode': '90047', 'country': 'USA', 'country_code': 'us'}\n",
      "{'house_number': '17693', 'road': 'Otilla Street', 'hamlet': 'Bloomington', 'county': 'San Bernardino County', 'state': 'California', 'postcode': '92316', 'country': 'USA', 'country_code': 'us'}\n",
      "{'house_number': '901', 'road': 'West Lodge Avenue', 'suburb': 'West Anaheim', 'city': 'Anaheim', 'county': 'Orange County', 'state': 'California', 'postcode': '92801', 'country': 'USA', 'country_code': 'us'}\n",
      "{'hardware': 'Orchard Supply Hardware', 'house_number': '31323', 'road': 'South Street', 'city': 'Cerritos', 'county': 'Los Angeles County', 'state': 'California', 'postcode': '90703', 'country': 'USA', 'country_code': 'us'}\n",
      "{'house_number': '1356', 'road': 'Koch Lane', 'suburb': 'Dry Creek', 'city': 'San Jose', 'county': 'Santa Clara County', 'state': 'California', 'postcode': '95125', 'country': 'USA', 'country_code': 'us'}\n",
      "{'house_number': '282', 'road': 'Locust Street', 'city': 'Modesto', 'county': 'Stanislaus County', 'state': 'California', 'postcode': '95351', 'country': 'USA', 'country_code': 'us'}\n",
      "{'house_number': '2498', 'road': 'Via Camino Avenue', 'hamlet': 'Carmichael', 'county': 'Sacramento County', 'state': 'California', 'postcode': '95608', 'country': 'USA', 'country_code': 'us'}\n",
      "{'county': 'Sonoma County', 'state': 'California', 'country': 'USA', 'country_code': 'us'}\n",
      "{'house_number': '298', 'road': 'Vallecito Court', 'town': 'Walnut Creek', 'county': 'Contra Costa County', 'state': 'California', 'postcode': '94596', 'country': 'USA', 'country_code': 'us'}\n",
      "{'house_number': '269', 'road': 'Knox Place', 'city': 'Costa Mesa', 'county': 'Orange County', 'state': 'California', 'postcode': '92627', 'country': 'USA', 'country_code': 'us'}\n",
      "{'road': 'Pack Trail', 'hamlet': 'Cape Horn', 'county': 'Alpine County', 'state': 'California', 'country': 'USA', 'country_code': 'us'}\n",
      "{'house_number': '9457', 'road': 'South Normandie Avenue', 'suburb': 'Westmont', 'hamlet': 'Morningside Park', 'county': 'Los Angeles County', 'state': 'California', 'postcode': '90044', 'country': 'USA', 'country_code': 'us'}\n",
      "{'road': 'Upper Terrace Road', 'hamlet': 'Montesano', 'county': 'Sonoma County', 'state': 'California', 'postcode': '95462', 'country': 'USA', 'country_code': 'us'}\n",
      "{'road': 'West Reilly Road', 'county': 'Merced County', 'state': 'California', 'postcode': '95341', 'country': 'USA', 'country_code': 'us'}\n",
      "{'house_number': '15988', 'road': 'Enadia Way', 'suburb': 'Van Nuys', 'city': 'LA', 'county': 'Los Angeles County', 'state': 'California', 'postcode': '91406', 'country': 'USA', 'country_code': 'us'}\n",
      "{'house_number': '3397', 'road': 'Bruce Drive', 'city': 'South Lake Tahoe', 'county': 'El Dorado County', 'state': 'California', 'postcode': '96150', 'country': 'USA', 'country_code': 'us'}\n",
      "{'water': 'McCreary Lake', 'road': 'Noyes Ranch Road', 'county': 'Lake County', 'state': 'California', 'country': 'USA', 'country_code': 'us'}\n",
      "{'house_number': '5101', 'road': 'Stevens Circle', 'neighbourhood': 'Fox Hills', 'suburb': 'Culver City', 'county': 'Los Angeles County', 'state': 'California', 'postcode': '90230', 'country': 'USA', 'country_code': 'us'}\n",
      "{'road': 'Savannah Drive', 'city': 'Lancaster', 'county': 'Los Angeles County', 'state': 'California', 'postcode': '93535', 'country': 'USA', 'country_code': 'us'}\n",
      "{'house_number': '127', 'road': 'East 3rd Avenue', 'city': 'Escondido', 'county': 'San Diego County', 'state': 'California', 'postcode': '92025', 'country': 'USA', 'country_code': 'us'}\n",
      "{'hardware': 'Ace Hardware', 'road': 'Soquel Avenue', 'commercial': 'Soquel Avenue Commercial Corridor', 'suburb': 'Eastside', 'city': 'Santa Cruz', 'county': 'Santa Cruz County', 'state': 'California', 'postcode': 'CA 95062', 'country': 'USA', 'country_code': 'us'}\n",
      "{'road': 'Leffingwell Road', 'city': 'Whittier', 'county': 'Los Angeles County', 'state': 'California', 'postcode': '90604', 'country': 'USA', 'country_code': 'us'}\n",
      "{'house_number': '4586', 'road': 'Via Marisol', 'neighbourhood': 'Newton Park', 'suburb': 'Highland Park', 'city': 'LA', 'county': 'Los Angeles County', 'state': 'California', 'postcode': '90042', 'country': 'USA', 'country_code': 'us'}\n",
      "{'house_number': '927', 'road': 'San Pascual Avenue', 'suburb': 'Highland Park', 'city': 'LA', 'county': 'Los Angeles County', 'state': 'California', 'postcode': '90042', 'country': 'USA', 'country_code': 'us'}\n",
      "{'house_number': '301', 'road': 'East Poplar Street', 'city': 'Compton', 'county': 'Los Angeles County', 'state': 'California', 'postcode': '90221', 'country': 'USA', 'country_code': 'us'}\n",
      "{'house_number': '865', 'road': 'T Street', 'neighbourhood': 'Oak Park', 'city': 'Sacramento', 'county': 'Sacramento County', 'state': 'California', 'postcode': '95811', 'country': 'USA', 'country_code': 'us'}\n",
      "{'house_number': '3131', 'road': '21st Street', 'city': 'Santa Monica', 'county': 'Los Angeles County', 'state': 'California', 'postcode': '90405', 'country': 'USA', 'country_code': 'us'}\n",
      "{'house_number': '818', 'road': 'Brown Street', 'city': 'Santa Ana', 'county': 'Orange County', 'state': 'California', 'postcode': '92701', 'country': 'USA', 'country_code': 'us'}\n",
      "{'path': 'Tunnel Trail', 'county': 'Santa Barbara County', 'state': 'California', 'postcode': '3701', 'country': 'USA', 'country_code': 'us'}\n",
      "{'house_number': '1530', 'road': 'Robinson Drive', 'city': 'Red Bluff', 'county': 'Tehama County', 'state': 'California', 'postcode': '96080', 'country': 'USA', 'country_code': 'us'}\n",
      "{'house_number': '793', 'road': 'East Herring Avenue', 'city': 'West Covina', 'county': 'Los Angeles County', 'state': 'California', 'postcode': '91790', 'country': 'USA', 'country_code': 'us'}\n",
      "{'house_number': '5812', 'road': 'East 61st Street', 'town': 'Commerce', 'county': 'Los Angeles County', 'state': 'California', 'postcode': '90040', 'country': 'USA', 'country_code': 'us'}\n",
      "{'house_number': '1174', 'road': 'Thoroughbred Lane', 'city': 'Norco', 'county': 'Riverside County', 'state': 'California', 'postcode': '92860', 'country': 'USA', 'country_code': 'us'}\n",
      "{'house_number': '1501', 'road': 'Flores Drive', 'neighbourhood': 'Pedro Valley', 'city': 'Pacifica', 'county': 'San Mateo County', 'state': 'California', 'postcode': '94044', 'country': 'USA', 'country_code': 'us'}\n",
      "{'house_number': '2216', 'road': 'South Beverly Glen Boulevard', 'neighbourhood': 'Westwood', 'suburb': 'Century City', 'city': 'LA', 'county': 'Los Angeles County', 'state': 'California', 'postcode': '90064', 'country': 'USA', 'country_code': 'us'}\n",
      "{'house_number': '432', 'road': 'Avenue E', 'city': 'Redondo Beach', 'county': 'Los Angeles County', 'state': 'California', 'postcode': '90277', 'country': 'USA', 'country_code': 'us'}\n",
      "{'house_number': '540', 'road': 'Corte Madera Avenue', 'town': 'Corte Madera', 'county': 'Marin County', 'state': 'California', 'postcode': '94925', 'country': 'USA', 'country_code': 'us'}\n",
      "{'house_number': '478', 'road': 'Denmark Street', 'city': 'Sonoma', 'county': 'Sonoma County', 'state': 'California', 'postcode': '95476', 'country': 'USA', 'country_code': 'us'}\n",
      "{'house_number': '1086', 'road': 'North Sweetzer Avenue', 'city': 'West Hollywood', 'county': 'Los Angeles County', 'state': 'California', 'postcode': '90069', 'country': 'USA', 'country_code': 'us'}\n",
      "{'house_number': '1981', 'road': 'Bernard Street', 'hamlet': 'East Bakersfield', 'county': 'Kern County', 'state': 'California', 'postcode': '93305', 'country': 'USA', 'country_code': 'us'}\n",
      "{'road': 'Golden West Avenue', 'city': 'Arcadia', 'county': 'Los Angeles County', 'state': 'California', 'postcode': '91007', 'country': 'USA', 'country_code': 'us'}\n",
      "{'house_number': '779', 'road': 'Lemon Avenue', 'city': 'Vista', 'county': 'San Diego County', 'state': 'California', 'postcode': '92084', 'country': 'USA', 'country_code': 'us'}\n",
      "{'house_number': '282', 'road': 'Mahan Court', 'city': 'Roseville', 'county': 'Placer County', 'state': 'California', 'postcode': '95678', 'country': 'USA', 'country_code': 'us'}\n",
      "{'road': 'Santa Margarita Parkway', 'city': 'Mission Viejo', 'county': 'Orange County', 'state': 'California', 'postcode': '92679', 'country': 'USA', 'country_code': 'us'}\n",
      "{'school': 'Woodside Elementary School', 'road': 'Fairlawn Place', 'city': 'Concord', 'county': 'Contra Costa County', 'state': 'California', 'postcode': '94518', 'country': 'USA', 'country_code': 'us'}\n",
      "{'track': 'BMX Park', 'road': 'Bridge Creek Drive', 'city': 'Sacramento', 'county': 'Sacramento County', 'state': 'California', 'postcode': '95833', 'country': 'USA', 'country_code': 'us'}\n",
      "{'house_number': '979', 'road': 'Walnut Street', 'retail': 'Pasadena Playhouse District', 'city': 'Pasadena', 'county': 'Los Angeles County', 'state': 'California', 'postcode': '91106', 'country': 'USA', 'country_code': 'us'}\n",
      "{'house_number': '3918', 'road': 'Genine Drive', 'city': 'Oceanside', 'county': 'San Diego County', 'state': 'California', 'postcode': '92056', 'country': 'USA', 'country_code': 'us'}\n",
      "{'house_number': '1397', 'road': 'West 58th Street', 'neighbourhood': 'Wildasin', 'suburb': 'Florence', 'city': 'LA', 'county': 'Los Angeles County', 'state': 'California', 'postcode': '90037', 'country': 'USA', 'country_code': 'us'}\n",
      "{'house_number': '1744', 'road': 'Paseo del Cajon', 'town': 'Pleasanton', 'county': 'Alameda County', 'state': 'California', 'postcode': '94566', 'country': 'USA', 'country_code': 'us'}\n",
      "{'house_number': '2901', 'road': 'Fernwood Avenue', 'retail': 'Plaza Mexico', 'city': 'Lynwood', 'county': 'Los Angeles County', 'state': 'California', 'postcode': '90262', 'country': 'USA', 'country_code': 'us'}\n",
      "{'road': 'Myrtle Avenue', 'city': 'Placerville', 'county': 'El Dorado County', 'state': 'California', 'postcode': '95667', 'country': 'USA', 'country_code': 'us'}\n",
      "{'house_number': '104', 'road': 'Pepper Avenue', 'city': 'Larkspur', 'county': 'Marin County', 'state': 'California', 'postcode': '94939', 'country': 'USA', 'country_code': 'us'}\n",
      "{'hamlet': 'Robbers Creek', 'county': 'Lassen County', 'state': 'California', 'country': 'USA', 'country_code': 'us'}\n",
      "{'house_number': '2810', 'road': 'Flower Street', 'town': 'Huntington Park', 'county': 'Los Angeles County', 'state': 'California', 'postcode': '90255', 'country': 'USA', 'country_code': 'us'}\n",
      "{'house_number': '8333', 'road': 'Roy Street', 'city': 'Lemon Grove', 'county': 'San Diego County', 'state': 'California', 'postcode': '91945', 'country': 'USA', 'country_code': 'us'}\n",
      "{'post_office': 'Castle Park Post Office', 'road': 'Oxford Street', 'neighbourhood': 'Harbor Side', 'city': 'Chula Vista', 'county': 'San Diego County', 'state': 'California', 'postcode': '91911', 'country': 'USA', 'country_code': 'us'}\n",
      "{'house_number': '1558', 'road': 'West Princeton Street', 'city': 'Ontario', 'county': 'San Bernardino County', 'state': 'California', 'postcode': '91762', 'country': 'USA', 'country_code': 'us'}\n",
      "{'house_number': '7182', 'road': 'McLennan Avenue', 'suburb': 'Encino', 'city': 'LA', 'county': 'Los Angeles County', 'state': 'California', 'postcode': '91406', 'country': 'USA', 'country_code': 'us'}\n",
      "{'road': 'Charles Benson Road', 'industrial': 'Regional Waste Management Facilities', 'suburb': 'Marina', 'hamlet': 'Neponset', 'county': 'Monterey County', 'state': 'California', 'postcode': '93933', 'country': 'USA', 'country_code': 'us'}\n",
      "{'house_number': '4355', 'road': 'Hazeltine Avenue', 'suburb': 'Sherman Oaks', 'city': 'LA', 'county': 'Los Angeles County', 'state': 'California', 'postcode': '91423', 'country': 'USA', 'country_code': 'us'}\n",
      "{'road': 'Parkcrest Street', 'suburb': 'Los Altos', 'county': 'Los Angeles County', 'state': 'California', 'postcode': '90808', 'country': 'USA', 'country_code': 'us'}\n",
      "{'house_number': '2505', 'road': 'Louise Avenue', 'city': 'Arcadia', 'county': 'Los Angeles County', 'state': 'California', 'postcode': '91006', 'country': 'USA', 'country_code': 'us'}\n",
      "{'house_number': '1121', 'road': 'West 22nd Street', 'city': 'Merced', 'county': 'Merced County', 'state': 'California', 'postcode': '95348', 'country': 'USA', 'country_code': 'us'}\n",
      "{'house_number': '516', 'road': 'North Mathilda Avenue', 'city': 'Sunnyvale', 'county': 'Santa Clara County', 'state': 'California', 'postcode': '94084', 'country': 'USA', 'country_code': 'us'}\n",
      "{'house_number': '9660', 'road': 'Cody Way', 'city': 'Stockton', 'county': 'San Joaquin County', 'state': 'California', 'postcode': '95209', 'country': 'USA', 'country_code': 'us'}\n",
      "{'road': 'Deerweed', 'hamlet': 'Delleker', 'county': 'Plumas County', 'state': 'California', 'postcode': '96122', 'country': 'USA', 'country_code': 'us'}\n",
      "{'house_number': '8563', 'road': 'South Buttonwillow Avenue', 'city': 'Reedley', 'county': 'Fresno County', 'state': 'California', 'postcode': '93654', 'country': 'USA', 'country_code': 'us'}\n",
      "{'neighbourhood': 'Gold Coast', 'city': 'Alameda', 'county': 'Alameda County', 'state': 'California', 'country': 'USA', 'country_code': 'us'}\n",
      "{'house_number': '11886', 'road': 'Front Street', 'city': 'Norwalk', 'county': 'Los Angeles County', 'state': 'California', 'postcode': '90650', 'country': 'USA', 'country_code': 'us'}\n",
      "{'road': 'West Avenue D 8', 'county': 'Los Angeles County', 'state': 'California', 'country': 'USA', 'country_code': 'us'}\n",
      "{'golf_course': 'La Cañada Flintridge Country Club', 'road': 'Starlight Crest Drive', 'town': 'La Cañada Flintridge', 'county': 'Los Angeles County', 'state': 'California', 'postcode': '91011', 'country': 'USA', 'country_code': 'us'}\n",
      "{'road': '32E309', 'hamlet': 'Peterson Mill', 'county': 'Inyo County', 'state': 'California', 'country': 'USA', 'country_code': 'us'}\n",
      "{'school': 'John H. Pitman High School', 'house_number': '2525', 'road': 'West Christoffersen Parkway', 'city': 'Turlock', 'county': 'Stanislaus County', 'state': 'California', 'postcode': '95382', 'country': 'USA', 'country_code': 'us'}\n",
      "{'house_number': '313', 'road': 'West Carriagedale Drive', 'suburb': 'Keystone', 'city': 'Carson', 'county': 'Los Angeles County', 'state': 'California', 'postcode': '90745', 'country': 'USA', 'country_code': 'us'}\n",
      "{'house_number': '10482', 'road': 'Nashville Avenue', 'suburb': 'Friendly Hills', 'hamlet': 'Leffingwell', 'county': 'Los Angeles County', 'state': 'California', 'postcode': '90604', 'country': 'USA', 'country_code': 'us'}\n",
      "{'supermarket': 'Whole Foods Market', 'road': 'Fairfax Avenue', 'neighbourhood': 'Park La Brea', 'suburb': 'The Village Green', 'city': 'LA', 'county': 'Los Angeles County', 'state': 'California', 'postcode': 'CA 90036', 'country': 'USA', 'country_code': 'us'}\n",
      "{'house_number': '967', 'road': 'West 11th Street', 'neighbourhood': 'Edison Historic District', 'city': 'Pomona', 'county': 'Los Angeles County', 'state': 'California', 'postcode': '91766', 'country': 'USA', 'country_code': 'us'}\n",
      "{'building': 'The Abbey', 'house_number': '2206', 'road': 'Cedar Street', 'city': 'Bakersfield', 'county': 'Kern County', 'state': 'California', 'postcode': '93301', 'country': 'USA', 'country_code': 'us'}\n",
      "{'house_number': '3669', 'road': 'Alta Vista Avenue', 'city': 'Santa Rosa', 'county': 'Sonoma County', 'state': 'California', 'postcode': '95409', 'country': 'USA', 'country_code': 'us'}\n",
      "{'house_number': '1159', 'road': 'Pradera Court', 'city': 'Arroyo Grande', 'county': 'San Luis Obispo County', 'state': 'California', 'postcode': '93420', 'country': 'USA', 'country_code': 'us'}\n",
      "{'house_number': '539', 'road': 'Crespi Place', 'village': 'Ashland', 'county': 'Alameda County', 'state': 'California', 'postcode': '94580', 'country': 'USA', 'country_code': 'us'}\n",
      "{'house_number': '177', 'road': 'Ralph Appezzato Memorial Parkway', 'neighbourhood': 'Woodstock', 'city': 'Alameda', 'county': 'Alameda County', 'state': 'California', 'postcode': '94501', 'country': 'USA', 'country_code': 'us'}\n",
      "{'house_number': '1123', 'road': '5th Street', 'city': 'Redding', 'county': 'Shasta County', 'state': 'California', 'postcode': '96002', 'country': 'USA', 'country_code': 'us'}\n",
      "{'house_number': '2528', 'road': 'Humboldt Drive', 'residential': \"Bay O' Vista\", 'city': 'San Leandro', 'county': 'Alameda County', 'state': 'California', 'postcode': '94577', 'country': 'USA', 'country_code': 'us'}\n",
      "{'house_number': '2025', 'road': 'East Altadena Drive', 'town': 'Altadena', 'county': 'Los Angeles County', 'state': 'California', 'postcode': '91001', 'country': 'USA', 'country_code': 'us'}\n",
      "{'road': 'Merkley Row', 'suburb': 'Alum Rock', 'hamlet': 'East Foothills', 'county': 'Santa Clara County', 'state': 'California', 'postcode': '95127', 'country': 'USA', 'country_code': 'us'}\n",
      "{'village': 'Big Sur', 'county': 'Monterey County', 'state': 'California', 'postcode': '93920-9998', 'country': 'USA', 'country_code': 'us'}\n",
      "{'house_number': '6126', 'road': 'Hawarden Drive', 'city': 'Riverside', 'county': 'Riverside County', 'state': 'California', 'postcode': '92506', 'country': 'USA', 'country_code': 'us'}\n",
      "{'house_number': '126', 'road': 'East Lawrence Avenue', 'city': 'Lodi', 'county': 'San Joaquin County', 'state': 'California', 'postcode': '95240', 'country': 'USA', 'country_code': 'us'}\n",
      "{'house_number': '572', 'road': 'Arbol Verde Street', 'city': 'Carpinteria', 'county': 'Santa Barbara County', 'state': 'California', 'postcode': '93013', 'country': 'USA', 'country_code': 'us'}\n",
      "{'house_number': '1444', 'road': 'South 22nd Street', 'city': 'El Centro', 'county': 'Imperial County', 'state': 'California', 'postcode': '92243', 'country': 'USA', 'country_code': 'us'}\n",
      "{'house_number': '1068', 'road': 'East Meadow Circle', 'neighbourhood': 'Palo Verde', 'city': 'Palo Alto', 'county': 'Santa Clara County', 'state': 'California', 'postcode': '94303', 'country': 'USA', 'country_code': 'us'}\n",
      "{'house_number': '471', 'road': 'Napa Street', 'village': 'Sausalito', 'county': 'Marin County', 'state': 'California', 'postcode': '94965', 'country': 'USA', 'country_code': 'us'}\n",
      "{'school': 'El Gabilan Elementary School', 'road': 'Elwood Street', 'city': 'Salinas', 'county': 'Monterey County', 'state': 'California', 'postcode': '93906', 'country': 'USA', 'country_code': 'us'}\n",
      "{'school': 'Enerprise High School', 'house_number': '3411', 'road': 'Churn Creek Road', 'city': 'Redding', 'county': 'Shasta County', 'state': 'California', 'postcode': '96002', 'country': 'USA', 'country_code': 'us'}\n",
      "{'address29': 'Rasputin Music', 'house_number': '1672', 'road': 'Haight Street', 'neighbourhood': 'Haight-Ashbury', 'city': 'SF', 'county': 'SF', 'state': 'California', 'postcode': '94117', 'country': 'USA', 'country_code': 'us'}\n",
      "{'house_number': '4470', 'road': 'Jarvis Avenue', 'suburb': 'Willow Glen', 'city': 'San Jose', 'county': 'Santa Clara County', 'state': 'California', 'postcode': '95118', 'country': 'USA', 'country_code': 'us'}\n",
      "{'memorial': 'Evergreen Cemetery', 'house_number': '204', 'road': 'Cesar E Chavez Avenue', 'neighbourhood': 'Brooklyn Heights', 'suburb': 'Boyle Heights', 'city': 'LA', 'county': 'Los Angeles County', 'state': 'California', 'postcode': '90033-3654', 'country': 'USA', 'country_code': 'us'}\n",
      "{'road': 'North Marina Drive', 'neighbourhood': 'Marina Pacifica', 'suburb': 'Naples', 'city': 'Long Beach', 'county': 'Los Angeles County', 'state': 'California', 'postcode': 'LONG BEACH', 'country': 'USA', 'country_code': 'us'}\n",
      "{'road': 'Hollywood Freeway', 'suburb': 'Pacoima', 'city': 'LA', 'county': 'Los Angeles County', 'state': 'California', 'postcode': '91352', 'country': 'USA', 'country_code': 'us'}\n",
      "{'hamlet': 'Wheatons', 'county': 'Tulare County', 'state': 'California', 'country': 'USA', 'country_code': 'us'}\n",
      "{'house_number': '132', 'road': 'Crestview Terrace', 'residential': 'Western Drive/Nobel', 'suburb': 'Westside', 'city': 'Santa Cruz', 'county': 'Santa Cruz County', 'state': 'California', 'postcode': '95060', 'country': 'USA', 'country_code': 'us'}\n",
      "{'county': 'Modoc County', 'state': 'California', 'country': 'USA', 'country_code': 'us'}\n",
      "{'house_number': '2344', 'road': 'Sierra Avenue', 'city': 'Clovis', 'county': 'Fresno County', 'state': 'California', 'postcode': '93611', 'country': 'USA', 'country_code': 'us'}\n",
      "{'house_number': '155', 'road': 'Cleveland Avenue', 'city': 'Montebello', 'county': 'Los Angeles County', 'state': 'California', 'postcode': '90640', 'country': 'USA', 'country_code': 'us'}\n",
      "{'house_number': '9705', 'road': 'Sabre Avenue', 'suburb': 'Koreatown', 'city': 'Garden Grove', 'county': 'Orange County', 'state': 'California', 'postcode': '92844', 'country': 'USA', 'country_code': 'us'}\n",
      "{'house_number': '58993', 'road': 'Carlyle Drive', 'town': 'Yucca Valley', 'county': 'San Bernardino County', 'state': 'California', 'postcode': '92284', 'country': 'USA', 'country_code': 'us'}\n",
      "{'city': 'Sacramento', 'county': 'Sacramento County', 'state': 'California', 'postcode': '95823', 'country': 'USA', 'country_code': 'us'}\n",
      "{'house_number': '7205', 'road': 'Rainbow Drive', 'city': 'San Jose', 'county': 'Santa Clara County', 'state': 'California', 'postcode': '95129', 'country': 'USA', 'country_code': 'us'}\n",
      "{'school': 'La Madera Elementary School', 'house_number': '25350', 'road': 'Serrano Road', 'suburb': 'Foothill Ranch', 'city': 'Lake Forest', 'county': 'Orange County', 'state': 'California', 'postcode': '92630', 'country': 'USA', 'country_code': 'us'}\n",
      "{'house_number': '502', 'road': 'The Alameda', 'neighbourhood': 'Thousand Oaks', 'city': 'Berkeley', 'county': 'Alameda County', 'state': 'California', 'postcode': '94707', 'country': 'USA', 'country_code': 'us'}\n",
      "{'house_number': '4102', 'road': 'Manzanita Street', 'suburb': 'El Camino Real', 'city': 'Irvine', 'county': 'Orange County', 'state': 'California', 'postcode': '92604', 'country': 'USA', 'country_code': 'us'}\n",
      "{'building': 'village Apartments', 'road': 'South 5th Street', 'neighbourhood': 'SoFA', 'suburb': 'Japantown', 'city': 'San Jose', 'county': 'Santa Clara County', 'state': 'California', 'postcode': '95113', 'country': 'USA', 'country_code': 'us'}\n",
      "{'road': 'Stevens Canyon Road', 'county': 'Santa Clara County', 'state': 'California', 'postcode': '95014-5402', 'country': 'USA', 'country_code': 'us'}\n",
      "{'house_number': '1827', 'road': 'Brookberry Lane', 'neighbourhood': 'Greek Track', 'city': 'Simi Valley', 'county': 'Ventura County', 'state': 'California', 'postcode': '93065', 'country': 'USA', 'country_code': 'us'}\n",
      "{'house_number': '3270', 'road': 'Zion Lane', 'suburb': 'Berryessa', 'city': 'San Jose', 'county': 'Santa Clara County', 'state': 'California', 'postcode': '95132', 'country': 'USA', 'country_code': 'us'}\n",
      "{'house_number': '891', 'road': 'Julie Court', 'city': 'San Marcos', 'county': 'San Diego County', 'state': 'California', 'postcode': '92069', 'country': 'USA', 'country_code': 'us'}\n",
      "{'house_number': '3117', 'road': 'Huntsman Drive', 'hamlet': 'Mayhew', 'county': 'Sacramento County', 'state': 'California', 'postcode': '95826', 'country': 'USA', 'country_code': 'us'}\n",
      "{'house_number': '3171', 'road': 'Vickie Court', 'city': 'Merced', 'county': 'Merced County', 'state': 'California', 'postcode': '95340', 'country': 'USA', 'country_code': 'us'}\n",
      "{'road': 'Orange Freeway', 'suburb': 'Old Town Placentia', 'city': 'Placentia', 'county': 'Orange County', 'state': 'California', 'postcode': '92870-5615', 'country': 'USA', 'country_code': 'us'}\n",
      "{'house_number': '674', 'road': 'West F Street', 'city': 'Ontario', 'county': 'San Bernardino County', 'state': 'California', 'postcode': '91762', 'country': 'USA', 'country_code': 'us'}\n",
      "{'house_number': '3402', 'road': 'J Street', 'neighbourhood': 'Stockton', 'suburb': 'North Park', 'city': 'San Diego', 'county': 'San Diego County', 'state': 'California', 'postcode': '92102', 'country': 'USA', 'country_code': 'us'}\n",
      "{'supermarket': 'Smart n Final', 'road': 'Moorpark Street', 'suburb': 'Encino', 'city': 'LA', 'county': 'Los Angeles County', 'state': 'California', 'postcode': '91316-3402', 'country': 'USA', 'country_code': 'us'}\n",
      "{'house_number': '24818', 'road': 'Freedom Court', 'city': 'Moreno Valley', 'county': 'Riverside County', 'state': 'California', 'postcode': '92557', 'country': 'USA', 'country_code': 'us'}\n",
      "{'road': 'Intake Boulevard', 'hamlet': 'East Blythe', 'county': 'Riverside County', 'state': 'California', 'postcode': '92226', 'country': 'USA', 'country_code': 'us'}\n",
      "{'townhall': 'La Puente City Hall', 'road': 'Main Street', 'city': 'La Puente', 'county': 'Los Angeles County', 'state': 'California', 'postcode': '91744', 'country': 'USA', 'country_code': 'us'}\n",
      "{'county': 'Alameda County', 'state': 'California', 'country': 'USA', 'country_code': 'us'}\n",
      "{'house_number': '836', 'road': 'East 106th Street', 'suburb': 'Watts', 'city': 'LA', 'county': 'Los Angeles County', 'state': 'California', 'postcode': '90002', 'country': 'USA', 'country_code': 'us'}\n",
      "{'hamlet': 'Lawrence Welk Resort Village', 'county': 'San Diego County', 'state': 'California', 'country': 'USA', 'country_code': 'us'}\n",
      "{'school': 'Thomas Jefferson High School', 'road': 'Compton Avenue', 'neighbourhood': 'Nevin', 'suburb': 'Jefferson', 'city': 'LA', 'county': 'Los Angeles County', 'state': 'California', 'postcode': '90011', 'country': 'USA', 'country_code': 'us'}\n",
      "{'house_number': '8532', 'road': 'Bishop Creek Circle', 'county': 'Placer County', 'state': 'California', 'postcode': '95661', 'country': 'USA', 'country_code': 'us'}\n"
     ]
    }
   ],
   "source": [
    "from time import sleep\n",
    "dataset[\"City\"] = 0\n",
    "for i in range(0, len(dataset)):\n",
    "  geolocator = Nominatim(user_agent=\"yet_another_app_2\")\n",
    "  location = geolocator.reverse(\"{}, {}\".format(dataset.loc[i, \"Latitude\"], dataset.loc[i, \"Longitude\"]), timeout = None)\n",
    "  loc_dict = dict(location.raw)\n",
    "  print(dict(location.raw)[\"address\"])\n",
    "\n",
    "  try:\n",
    "    dataset.loc[i, \"City\"] = loc_dict[\"address\"][\"city\"]\n",
    "  except:\n",
    "      try:\n",
    "        dataset.loc[i, \"City\"] = loc_dict[\"address\"][\"town\"]\n",
    "      except:\n",
    "        try:\n",
    "           dataset.loc[i, \"City\"] = loc_dict[\"address\"][\"village\"]\n",
    "        except:\n",
    "          pass\n",
    "  \n",
    "  if i % 10 == 0:\n",
    "    sleep(np.random.randint(2, 5))"
   ]
  },
  {
   "cell_type": "markdown",
   "metadata": {
    "colab_type": "text",
    "id": "4YEDw7qEGUAH"
   },
   "source": [
    " 18. S'il y a des villes que vous n'avez pas trouvées, remplacez la valeur de la cellule par ```unknown```"
   ]
  },
  {
   "cell_type": "code",
   "execution_count": 0,
   "metadata": {
    "colab": {},
    "colab_type": "code",
    "id": "MgAGSLw2mFeF"
   },
   "outputs": [],
   "source": [
    "dataset_sample = dataset"
   ]
  },
  {
   "cell_type": "code",
   "execution_count": 0,
   "metadata": {
    "colab": {
     "base_uri": "https://localhost:8080/",
     "height": 124
    },
    "colab_type": "code",
    "id": "pDYl0bIhcrBt",
    "outputId": "3228599a-5eba-46a8-9ce8-2dc15ba622bb"
   },
   "outputs": [
    {
     "name": "stderr",
     "output_type": "stream",
     "text": [
      "/usr/local/lib/python3.6/dist-packages/ipykernel_launcher.py:1: SettingWithCopyWarning: \n",
      "A value is trying to be set on a copy of a slice from a DataFrame\n",
      "\n",
      "See the caveats in the documentation: http://pandas.pydata.org/pandas-docs/stable/indexing.html#indexing-view-versus-copy\n",
      "  \"\"\"Entry point for launching an IPython kernel.\n"
     ]
    }
   ],
   "source": [
    "dataset_sample.City[dataset_sample.City == 0]= \"Unknown\""
   ]
  },
  {
   "cell_type": "markdown",
   "metadata": {
    "colab_type": "text",
    "id": "WHbWVsOTikye"
   },
   "source": [
    "19. Trouvez le top 10 des villes qui ont les prix moyens les plus chers"
   ]
  },
  {
   "cell_type": "code",
   "execution_count": 0,
   "metadata": {
    "colab": {
     "base_uri": "https://localhost:8080/",
     "height": 378
    },
    "colab_type": "code",
    "id": "TCby5kV9ikS8",
    "outputId": "039e5904-b669-47af-ba6a-fe90b1ee818a"
   },
   "outputs": [
    {
     "data": {
      "text/html": [
       "<div>\n",
       "<style scoped>\n",
       "    .dataframe tbody tr th:only-of-type {\n",
       "        vertical-align: middle;\n",
       "    }\n",
       "\n",
       "    .dataframe tbody tr th {\n",
       "        vertical-align: top;\n",
       "    }\n",
       "\n",
       "    .dataframe thead th {\n",
       "        text-align: right;\n",
       "    }\n",
       "</style>\n",
       "<table border=\"1\" class=\"dataframe\">\n",
       "  <thead>\n",
       "    <tr style=\"text-align: right;\">\n",
       "      <th></th>\n",
       "      <th>MedInc</th>\n",
       "      <th>HouseAge</th>\n",
       "      <th>AveRooms</th>\n",
       "      <th>AveBedrms</th>\n",
       "      <th>Population</th>\n",
       "      <th>AveOccup</th>\n",
       "      <th>Latitude</th>\n",
       "      <th>Longitude</th>\n",
       "      <th>Price</th>\n",
       "    </tr>\n",
       "    <tr>\n",
       "      <th>City</th>\n",
       "      <th></th>\n",
       "      <th></th>\n",
       "      <th></th>\n",
       "      <th></th>\n",
       "      <th></th>\n",
       "      <th></th>\n",
       "      <th></th>\n",
       "      <th></th>\n",
       "      <th></th>\n",
       "    </tr>\n",
       "  </thead>\n",
       "  <tbody>\n",
       "    <tr>\n",
       "      <th>La Cañada Flintridge</th>\n",
       "      <td>9.8413</td>\n",
       "      <td>32.0</td>\n",
       "      <td>7.170040</td>\n",
       "      <td>1.014845</td>\n",
       "      <td>4353.0</td>\n",
       "      <td>2.937247</td>\n",
       "      <td>34.220000</td>\n",
       "      <td>-118.190000</td>\n",
       "      <td>5.000010</td>\n",
       "    </tr>\n",
       "    <tr>\n",
       "      <th>Sausalito</th>\n",
       "      <td>6.7669</td>\n",
       "      <td>35.0</td>\n",
       "      <td>5.168561</td>\n",
       "      <td>1.018939</td>\n",
       "      <td>969.0</td>\n",
       "      <td>1.835227</td>\n",
       "      <td>37.860000</td>\n",
       "      <td>-122.490000</td>\n",
       "      <td>5.000010</td>\n",
       "    </tr>\n",
       "    <tr>\n",
       "      <th>Costa Mesa</th>\n",
       "      <td>7.8496</td>\n",
       "      <td>39.0</td>\n",
       "      <td>6.528889</td>\n",
       "      <td>1.004444</td>\n",
       "      <td>553.0</td>\n",
       "      <td>2.457778</td>\n",
       "      <td>33.630000</td>\n",
       "      <td>-117.920000</td>\n",
       "      <td>4.908000</td>\n",
       "    </tr>\n",
       "    <tr>\n",
       "      <th>SF</th>\n",
       "      <td>3.6675</td>\n",
       "      <td>52.0</td>\n",
       "      <td>4.041590</td>\n",
       "      <td>1.068281</td>\n",
       "      <td>1544.0</td>\n",
       "      <td>1.730212</td>\n",
       "      <td>37.786667</td>\n",
       "      <td>-122.433333</td>\n",
       "      <td>4.861007</td>\n",
       "    </tr>\n",
       "    <tr>\n",
       "      <th>Altadena</th>\n",
       "      <td>9.5320</td>\n",
       "      <td>50.0</td>\n",
       "      <td>7.114428</td>\n",
       "      <td>0.925373</td>\n",
       "      <td>620.0</td>\n",
       "      <td>3.084577</td>\n",
       "      <td>34.190000</td>\n",
       "      <td>-118.110000</td>\n",
       "      <td>4.833000</td>\n",
       "    </tr>\n",
       "    <tr>\n",
       "      <th>Palo Alto</th>\n",
       "      <td>7.3023</td>\n",
       "      <td>35.0</td>\n",
       "      <td>6.661710</td>\n",
       "      <td>0.994424</td>\n",
       "      <td>1405.0</td>\n",
       "      <td>2.611524</td>\n",
       "      <td>37.430000</td>\n",
       "      <td>-122.110000</td>\n",
       "      <td>4.513000</td>\n",
       "    </tr>\n",
       "    <tr>\n",
       "      <th>Redondo Beach</th>\n",
       "      <td>6.0308</td>\n",
       "      <td>38.0</td>\n",
       "      <td>5.857778</td>\n",
       "      <td>1.053333</td>\n",
       "      <td>547.0</td>\n",
       "      <td>2.431111</td>\n",
       "      <td>33.820000</td>\n",
       "      <td>-118.380000</td>\n",
       "      <td>4.167000</td>\n",
       "    </tr>\n",
       "    <tr>\n",
       "      <th>Larkspur</th>\n",
       "      <td>6.6125</td>\n",
       "      <td>42.0</td>\n",
       "      <td>6.256484</td>\n",
       "      <td>1.043228</td>\n",
       "      <td>887.0</td>\n",
       "      <td>2.556196</td>\n",
       "      <td>37.930000</td>\n",
       "      <td>-122.530000</td>\n",
       "      <td>3.932000</td>\n",
       "    </tr>\n",
       "    <tr>\n",
       "      <th>Corte Madera</th>\n",
       "      <td>3.8750</td>\n",
       "      <td>45.0</td>\n",
       "      <td>4.664634</td>\n",
       "      <td>0.987805</td>\n",
       "      <td>608.0</td>\n",
       "      <td>1.853659</td>\n",
       "      <td>37.920000</td>\n",
       "      <td>-122.530000</td>\n",
       "      <td>3.908000</td>\n",
       "    </tr>\n",
       "    <tr>\n",
       "      <th>San Leandro</th>\n",
       "      <td>6.5095</td>\n",
       "      <td>25.0</td>\n",
       "      <td>6.631579</td>\n",
       "      <td>0.894737</td>\n",
       "      <td>340.0</td>\n",
       "      <td>1.988304</td>\n",
       "      <td>37.720000</td>\n",
       "      <td>-122.130000</td>\n",
       "      <td>3.712000</td>\n",
       "    </tr>\n",
       "  </tbody>\n",
       "</table>\n",
       "</div>"
      ],
      "text/plain": [
       "                      MedInc  HouseAge  AveRooms  AveBedrms  Population  \\\n",
       "City                                                                      \n",
       "La Cañada Flintridge  9.8413      32.0  7.170040   1.014845      4353.0   \n",
       "Sausalito             6.7669      35.0  5.168561   1.018939       969.0   \n",
       "Costa Mesa            7.8496      39.0  6.528889   1.004444       553.0   \n",
       "SF                    3.6675      52.0  4.041590   1.068281      1544.0   \n",
       "Altadena              9.5320      50.0  7.114428   0.925373       620.0   \n",
       "Palo Alto             7.3023      35.0  6.661710   0.994424      1405.0   \n",
       "Redondo Beach         6.0308      38.0  5.857778   1.053333       547.0   \n",
       "Larkspur              6.6125      42.0  6.256484   1.043228       887.0   \n",
       "Corte Madera          3.8750      45.0  4.664634   0.987805       608.0   \n",
       "San Leandro           6.5095      25.0  6.631579   0.894737       340.0   \n",
       "\n",
       "                      AveOccup   Latitude   Longitude     Price  \n",
       "City                                                             \n",
       "La Cañada Flintridge  2.937247  34.220000 -118.190000  5.000010  \n",
       "Sausalito             1.835227  37.860000 -122.490000  5.000010  \n",
       "Costa Mesa            2.457778  33.630000 -117.920000  4.908000  \n",
       "SF                    1.730212  37.786667 -122.433333  4.861007  \n",
       "Altadena              3.084577  34.190000 -118.110000  4.833000  \n",
       "Palo Alto             2.611524  37.430000 -122.110000  4.513000  \n",
       "Redondo Beach         2.431111  33.820000 -118.380000  4.167000  \n",
       "Larkspur              2.556196  37.930000 -122.530000  3.932000  \n",
       "Corte Madera          1.853659  37.920000 -122.530000  3.908000  \n",
       "San Leandro           1.988304  37.720000 -122.130000  3.712000  "
      ]
     },
     "execution_count": 219,
     "metadata": {
      "tags": []
     },
     "output_type": "execute_result"
    }
   ],
   "source": [
    "dataset_sample.groupby(\"City\").mean().sort_values(by=\"Price\", ascending=False)[:10]"
   ]
  },
  {
   "cell_type": "markdown",
   "metadata": {
    "colab_type": "text",
    "id": "WTVZXwPRitzg"
   },
   "source": [
    "20. Affichez ceci dans un graphique "
   ]
  },
  {
   "cell_type": "code",
   "execution_count": 0,
   "metadata": {
    "colab": {
     "base_uri": "https://localhost:8080/",
     "height": 907
    },
    "colab_type": "code",
    "id": "DnFohmk7c8eh",
    "outputId": "d830ef98-2389-4552-96dd-d9a3cf71cdcc"
   },
   "outputs": [
    {
     "name": "stderr",
     "output_type": "stream",
     "text": [
      "/usr/local/lib/python3.6/dist-packages/matplotlib/tight_layout.py:176: UserWarning: Tight layout not applied. The left and right margins cannot be made large enough to accommodate all axes decorations. \n",
      "  warnings.warn('Tight layout not applied. The left and right margins '\n"
     ]
    },
    {
     "data": {
      "image/png": "[encoded data removed]",
      "text/plain": [
       "<Figure size 1152x576 with 1 Axes>"
      ]
     },
     "metadata": {
      "tags": []
     },
     "output_type": "display_data"
    },
    {
     "data": {
      "image/png": "[encoded data removed]",
      "text/plain": [
       "<Figure size 360x360 with 1 Axes>"
      ]
     },
     "metadata": {
      "tags": []
     },
     "output_type": "display_data"
    }
   ],
   "source": [
    "fig, ax = plt.subplots(figsize=(16,8))\n",
    "ax = sns.catplot(x=[city for city in dataset_sample.groupby(\"City\").mean().sort_values(by=\"Price\", ascending=False)[:10].index], \n",
    "            y=\"Price\", \n",
    "            data=dataset_sample.groupby(\"City\").mean().sort_values(by=\"Price\", ascending=False)[:10], \n",
    "            kind='bar', \n",
    "            ax = ax\n",
    "           )\n",
    "\n",
    "ax.set(xlabel='City', ylabel='Price')\n",
    "plt.show()"
   ]
  },
  {
   "cell_type": "markdown",
   "metadata": {
    "colab_type": "text",
    "id": "MtfYTfY4i0Bm"
   },
   "source": [
    "21. Refaites un modèle de régression linéaire en incluant les villes comme variables explicative. Quel score trouvez vous ?"
   ]
  },
  {
   "cell_type": "code",
   "execution_count": 0,
   "metadata": {
    "colab": {},
    "colab_type": "code",
    "id": "pqfiHQCli6-I"
   },
   "outputs": [],
   "source": [
    "# Dummyfication des villes \n",
    "dataset= pd.get_dummies(dataset, drop_first=True) "
   ]
  },
  {
   "cell_type": "code",
   "execution_count": 0,
   "metadata": {
    "colab": {},
    "colab_type": "code",
    "id": "akDvFxiwi9Po"
   },
   "outputs": [],
   "source": [
    "# Séparation des variables \n",
    "X = dataset_sample.loc[:, dataset_sample.columns != \"Price\"]\n",
    "y = dataset_sample.loc[:, dataset_sample.columns == \"Price\"]"
   ]
  },
  {
   "cell_type": "code",
   "execution_count": 0,
   "metadata": {
    "colab": {},
    "colab_type": "code",
    "id": "uOt2BnKLjLIb"
   },
   "outputs": [],
   "source": [
    "# Train Test Split\n",
    "X_train, X_test, y_train, y_test = train_test_split(X, y, test_size= 0.15)"
   ]
  },
  {
   "cell_type": "code",
   "execution_count": 0,
   "metadata": {
    "colab": {
     "base_uri": "https://localhost:8080/",
     "height": 175
    },
    "colab_type": "code",
    "id": "QDvgJjxYjVIw",
    "outputId": "e09bf1fa-a2b1-400b-c647-a01cb9871c18"
   },
   "outputs": [
    {
     "name": "stderr",
     "output_type": "stream",
     "text": [
      "/usr/local/lib/python3.6/dist-packages/sklearn/preprocessing/data.py:645: DataConversionWarning: Data with input dtype int64, float64 were all converted to float64 by StandardScaler.\n",
      "  return self.partial_fit(X, y)\n",
      "/usr/local/lib/python3.6/dist-packages/sklearn/base.py:464: DataConversionWarning: Data with input dtype int64, float64 were all converted to float64 by StandardScaler.\n",
      "  return self.fit(X, **fit_params).transform(X)\n",
      "/usr/local/lib/python3.6/dist-packages/sklearn/preprocessing/data.py:645: DataConversionWarning: Data with input dtype int64, float64 were all converted to float64 by StandardScaler.\n",
      "  return self.partial_fit(X, y)\n",
      "/usr/local/lib/python3.6/dist-packages/sklearn/base.py:464: DataConversionWarning: Data with input dtype int64, float64 were all converted to float64 by StandardScaler.\n",
      "  return self.fit(X, **fit_params).transform(X)\n"
     ]
    }
   ],
   "source": [
    "# Normalisation des données\n",
    "sc_x = StandardScaler()\n",
    "X_train = sc_x.fit_transform(X_train)\n",
    "X_test = sc_x.fit_transform(X_test)"
   ]
  },
  {
   "cell_type": "code",
   "execution_count": 0,
   "metadata": {
    "colab": {
     "base_uri": "https://localhost:8080/",
     "height": 52
    },
    "colab_type": "code",
    "id": "0cnWNvdQjpAa",
    "outputId": "aa7f95c1-0efb-40fb-8467-e51815422df4"
   },
   "outputs": [
    {
     "data": {
      "text/plain": [
       "LinearRegression(copy_X=True, fit_intercept=True, n_jobs=None,\n",
       "         normalize=False)"
      ]
     },
     "execution_count": 258,
     "metadata": {
      "tags": []
     },
     "output_type": "execute_result"
    }
   ],
   "source": [
    "# Application du modèle \n",
    "from sklearn.linear_model import LinearRegression\n",
    "regressor = LinearRegression()\n",
    "regressor.fit(X_train, y_train)"
   ]
  },
  {
   "cell_type": "code",
   "execution_count": 0,
   "metadata": {
    "colab": {
     "base_uri": "https://localhost:8080/",
     "height": 35
    },
    "colab_type": "code",
    "id": "uMBR4RgGjxYw",
    "outputId": "d2ece4d3-b819-447e-e0c1-f295ac7df3b6"
   },
   "outputs": [
    {
     "data": {
      "text/plain": [
       "0.6705042435805343"
      ]
     },
     "execution_count": 259,
     "metadata": {
      "tags": []
     },
     "output_type": "execute_result"
    }
   ],
   "source": [
    "# Evaluation du modèle \n",
    "regressor.score(X_test, y_test)"
   ]
  },
  {
   "cell_type": "markdown",
   "metadata": {
    "colab_type": "text",
    "id": "K-GHNdcApHkZ"
   },
   "source": [
    "22. Notre modèle est globalement moins bon. A votre avis pourquoi ? "
   ]
  },
  {
   "cell_type": "markdown",
   "metadata": {
    "colab_type": "text",
    "id": "sKwuwguRpLa7"
   },
   "source": [
    "----> Nous avons beaucoup moins de données. Il faudrait qu'on prenne un sample plus grand pour que notre modèle aient de quoi s'entraîner correctement. "
   ]
  },
  {
   "cell_type": "code",
   "execution_count": 0,
   "metadata": {
    "colab": {},
    "colab_type": "code",
    "id": "xU0ZvyAnrjYm"
   },
   "outputs": [],
   "source": []
  }
 ],
 "metadata": {
  "colab": {
   "name": "Californian Housing Market - Exercice SOLUTION.ipynb",
   "provenance": [],
   "version": "0.3.2"
  },
  "kernelspec": {
   "display_name": "Python 3",
   "language": "python",
   "name": "python3"
  },
  "language_info": {
   "codemirror_mode": {
    "name": "ipython",
    "version": 3
   },
   "file_extension": ".py",
   "mimetype": "text/x-python",
   "name": "python",
   "nbconvert_exporter": "python",
   "pygments_lexer": "ipython3",
   "version": "3.7.3"
  }
 },
 "nbformat": 4,
 "nbformat_minor": 1
}
